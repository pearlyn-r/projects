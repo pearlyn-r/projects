{
  "nbformat": 4,
  "nbformat_minor": 0,
  "metadata": {
    "colab": {
      "provenance": [],
      "include_colab_link": true
    },
    "kernelspec": {
      "name": "python3",
      "display_name": "Python 3"
    },
    "language_info": {
      "name": "python"
    }
  },
  "cells": [
    {
      "cell_type": "markdown",
      "metadata": {
        "id": "view-in-github",
        "colab_type": "text"
      },
      "source": [
        "<a href=\"https://colab.research.google.com/github/pearlyn-r/projects/blob/chatgpt_vs_google_survey/chatgpt_google.ipynb\" target=\"_parent\"><img src=\"https://colab.research.google.com/assets/colab-badge.svg\" alt=\"Open In Colab\"/></a>"
      ]
    },
    {
      "cell_type": "markdown",
      "source": [
        "Necessary Packages"
      ],
      "metadata": {
        "id": "aHdvmSG2XBCZ"
      }
    },
    {
      "cell_type": "code",
      "source": [
        "!pip install fancyimpute"
      ],
      "metadata": {
        "id": "gJhBCYi_HVA3"
      },
      "execution_count": null,
      "outputs": []
    },
    {
      "cell_type": "code",
      "source": [
        "!pip install scikit-posthocs"
      ],
      "metadata": {
        "id": "4GMgOr0gmdMQ"
      },
      "execution_count": null,
      "outputs": []
    },
    {
      "cell_type": "markdown",
      "source": [
        "Importing Libraries"
      ],
      "metadata": {
        "id": "BMO9tb7TXFgO"
      }
    },
    {
      "cell_type": "code",
      "execution_count": null,
      "metadata": {
        "id": "UnfeiolslfXv"
      },
      "outputs": [],
      "source": [
        "import pandas as pd\n",
        "from sklearn.preprocessing import LabelEncoder\n",
        "import numpy as np\n",
        "from scipy import stats\n",
        "from scipy.stats import t\n",
        "from scipy.stats import norm\n",
        "from fancyimpute import IterativeImputer\n",
        "from scipy import stats\n",
        "import pandas as pd\n",
        "import statsmodels.api as sm\n",
        "import statsmodels.api as sm\n",
        "from statsmodels.formula.api import ols\n",
        "import statsmodels.formula.api as smf\n",
        "import sklearn.linear_model as lm\n",
        "import seaborn as sns\n",
        "from sklearn.preprocessing import scale\n",
        "from statsmodels.stats.outliers_influence import variance_inflation_factor\n",
        "import statsmodels.formula.api as smf\n",
        "import matplotlib.pyplot as plt\n",
        "from sklearn.preprocessing import PolynomialFeatures\n",
        "from sklearn.model_selection import train_test_split,LeaveOneOut,KFold,cross_val_score\n",
        "from sklearn.metrics import mean_squared_error\n",
        "from sklearn.linear_model import Ridge\n",
        "from sklearn.linear_model import Lasso\n",
        "from sklearn.linear_model import LogisticRegression\n",
        "from sklearn.linear_model import Ridge,RidgeCV,Lasso,LassoCV"
      ]
    },
    {
      "cell_type": "markdown",
      "source": [
        "**Importing the survey data**"
      ],
      "metadata": {
        "id": "WymIOsSuXKBl"
      }
    },
    {
      "cell_type": "code",
      "source": [
        "df=pd.read_excel(\"chatgpt.xlsx\")\n",
        "df.info()"
      ],
      "metadata": {
        "colab": {
          "base_uri": "https://localhost:8080/"
        },
        "id": "pbcg6b1GlnUL",
        "outputId": "a1192e2e-1e69-408a-a468-00860dd65212"
      },
      "execution_count": null,
      "outputs": [
        {
          "output_type": "stream",
          "name": "stdout",
          "text": [
            "<class 'pandas.core.frame.DataFrame'>\n",
            "RangeIndex: 167 entries, 0 to 166\n",
            "Data columns (total 18 columns):\n",
            " #   Column                                                                                                           Non-Null Count  Dtype         \n",
            "---  ------                                                                                                           --------------  -----         \n",
            " 0   Timestamp                                                                                                        167 non-null    datetime64[ns]\n",
            " 1   What is your Gender?                                                                                             121 non-null    object        \n",
            " 2   How old are you?                                                                                                 119 non-null    float64       \n",
            " 3   What best describes your current position?                                                                       167 non-null    object        \n",
            " 4   Have you ever used ChatGPT before?                                                                               167 non-null    object        \n",
            " 5   If yes, how often do you use ChatGPT?                                                                            167 non-null    object        \n",
            " 6   How do you usually use ChatGPT? (Select all that apply)                                                          144 non-null    object        \n",
            " 7   Before ChatGPT, how often did you use Google to search for information?                                          167 non-null    object        \n",
            " 8   Since ChatGPT, how often do you use Google to search for information?                                            167 non-null    object        \n",
            " 9   Do you feel that ChatGPT has replaced Google as your primary source of information?                              167 non-null    object        \n",
            " 10  \n",
            "Do you feel that ChatGPT has made it easier for you to find the information you need compared to using Google?  167 non-null    object        \n",
            " 11  How likely would you be to continue using ChatGPT if it started charging a fee?                                  167 non-null    object        \n",
            " 12  How much would you be willing to pay per month to continue using ChatGPT?                                        167 non-null    object        \n",
            " 13  Do you currently pay for a monthly Netflix subscription?                                                         167 non-null    object        \n",
            " 14  \n",
            "How important is the availability of a free version of ChatGPT to you?                                          167 non-null    object        \n",
            " 15  Do you think that charging a fee for ChatGPT would be reasonable given the benefits it provides?                 167 non-null    object        \n",
            " 16  Overall, do you think ChatGPT has had a positive impact on your search for information online?                   167 non-null    object        \n",
            " 17  What would you do if ChatGPT replaced Google and Google didn't exist anymore?                                    167 non-null    object        \n",
            "dtypes: datetime64[ns](1), float64(1), object(16)\n",
            "memory usage: 23.6+ KB\n"
          ]
        }
      ]
    },
    {
      "cell_type": "code",
      "source": [
        "df.drop(df[df['Have you ever used ChatGPT before?'] == 'No'].index, inplace=True)"
      ],
      "metadata": {
        "id": "nQGxZf9yuR7s"
      },
      "execution_count": null,
      "outputs": []
    },
    {
      "cell_type": "code",
      "source": [
        "df.isna().sum()\n",
        "del df['Timestamp']"
      ],
      "metadata": {
        "id": "tXb9CldGFBBx"
      },
      "execution_count": null,
      "outputs": []
    },
    {
      "cell_type": "code",
      "source": [
        "df.columns=[\"Gender\", \"Age\", \"Position\", \"Q1\",\"Q2\", \"Q3\", \"Q4\",\"Q5\", \"Q6\",\"Q7\",\"Q8\",\"Q9\",\"Q10\", \"Q11\",\"Q12\", \"Q13\",\"Q14\"]"
      ],
      "metadata": {
        "id": "HFVu0n2mH5AG"
      },
      "execution_count": null,
      "outputs": []
    },
    {
      "cell_type": "code",
      "source": [
        "import matplotlib.pyplot as plt\n",
        "\n",
        "# Define color scheme\n",
        "colors = ['#1f4068', '#ea5455', '#76448a']\n",
        "\n",
        "# Set figure size and create subplots\n",
        "fig, axes = plt.subplots(nrows=1, ncols=3, figsize=(7,3))\n",
        "\n",
        "# Plot Position distribution\n",
        "axes[0].bar(df['Position'].unique(), df['Position'].value_counts(), color=colors)\n",
        "axes[0].set_xticklabels(df['Position'].unique(), rotation=90, fontsize=10)\n",
        "axes[0].set_xlabel('Position', fontsize=12)\n",
        "axes[0].set_ylabel('Count', fontsize=8)\n",
        "axes[0].set_title('Position Distribution', fontsize=10)\n",
        "\n",
        "# Plot Gender distribution\n",
        "axes[1].bar(['Male', 'Female'], df['Gender'].value_counts(), color=colors)\n",
        "axes[1].set_xlabel('Gender', fontsize=12)\n",
        "axes[1].set_ylabel('Count', fontsize=8)\n",
        "axes[1].set_title('Gender Distribution', fontsize=10)\n",
        "\n",
        "# Plot Age distribution\n",
        "axes[2].hist(df['Age'], bins=20, color=colors[2])\n",
        "axes[2].set_xlabel('Age', fontsize=12)\n",
        "axes[2].set_ylabel('Count', fontsize=8)\n",
        "axes[2].set_title('Age Distribution', fontsize=10)\n",
        "\n",
        "# Adjust space between subplots\n",
        "plt.subplots_adjust(wspace=0.3)\n",
        "\n",
        "# Show the plot\n",
        "plt.show()\n"
      ],
      "metadata": {
        "colab": {
          "base_uri": "https://localhost:8080/",
          "height": 443
        },
        "id": "bIu2QGZajwym",
        "outputId": "0d6f9e09-7d72-45cc-9ee0-dba65760622a"
      },
      "execution_count": null,
      "outputs": [
        {
          "output_type": "stream",
          "name": "stderr",
          "text": [
            "<ipython-input-105-9cdb0de3b392>:11: UserWarning: FixedFormatter should only be used together with FixedLocator\n",
            "  axes[0].set_xticklabels(df['Position'].unique(), rotation=90, fontsize=10)\n"
          ]
        },
        {
          "output_type": "display_data",
          "data": {
            "text/plain": [
              "<Figure size 700x300 with 3 Axes>"
            ],
            "image/png": "[encoded data removed]"
          },
          "metadata": {}
        }
      ]
    },
    {
      "cell_type": "markdown",
      "source": [
        "**Performing Multiple Imputations to handle missing values**"
      ],
      "metadata": {
        "id": "jggeB1bgXUGu"
      }
    },
    {
      "cell_type": "code",
      "source": [
        "df1 = df.copy()\n",
        "df1[\"Gender\"] = df1[\"Gender\"].apply(lambda x: 1 if x == \"Male\" else 0)\n",
        "cols_with_missing = [\"Gender\", \"Age\"]\n",
        "\n",
        "imputer = IterativeImputer()\n",
        "df1[cols_with_missing] = imputer.fit_transform(df1[cols_with_missing])\n",
        "df1[\"Gender\"] = df1[\"Gender\"].apply(lambda x: \"Male\" if x == 1 else \"Female\")"
      ],
      "metadata": {
        "id": "NzFsJkbHHNdq"
      },
      "execution_count": null,
      "outputs": []
    },
    {
      "cell_type": "markdown",
      "source": [
        "**Label Encoding the data**"
      ],
      "metadata": {
        "id": "ny3haEdiXirk"
      }
    },
    {
      "cell_type": "code",
      "source": [
        "from sklearn.preprocessing import LabelEncoder\n",
        "le = LabelEncoder()\n",
        "df1['Q12'] = le.fit_transform(df1['Q12'])"
      ],
      "metadata": {
        "id": "325P1TDHhdGj"
      },
      "execution_count": null,
      "outputs": []
    },
    {
      "cell_type": "code",
      "source": [
        "df1['Q1'].replace(['Yes','No'], [1,0], inplace=True)\n",
        "df1['Q2'].replace(['Every day or more often', 'Two to six times a week', 'Once a week', 'Less than once a week', 'Never'], [4, 3, 2, 1, 0], inplace=True)\n",
        "#df['Q3'].replace(['To get answers to specific questions', 'To generate new ideas', 'To learn new things', 'To have a conversation', 'To complete assignments/homework','To write code'], ['Answer_Q','Ideas','Learn','Conv','As_HW','Code'], inplace=True)\n",
        "#df1['Q3'].str.split(',', expand=True)\n",
        "df1['Q4'].replace(['Every day or more often', 'Two to six times a week', 'Once a week', 'Less than once a week', 'Never'], [4, 3, 2, 1, 0], inplace=True)\n",
        "df1['Q5'].replace(['Every day or more often', 'Two to six times a week', 'Once a week', 'Less than once a week', 'Never'], [4, 3, 2, 1, 0], inplace=True)\n",
        "df1['Q6'].replace(['Yes','No'], [1, 0], inplace=True) #dependent\n",
        "df1['Q7'].replace(['Yes, ChatGPT has made it much easier to find the information I need.','Yes, ChatGPT has made it somewhat easier to find the information I need.','Neutral/Not sure','No, ChatGPT has not made it easier to find the information I need.','No, ChatGPT has actually made it more difficult to find the information I need.'], [4, 3, 2, 1, 0], inplace=True)\n",
        "df1['Q8'].replace(['Very likely','Somewhat likely','Neutral/ Not sure','Somewhat unlikely','Very unlikely'], [4, 3, 2, 1, 0], inplace=True)\n",
        "df1['Q9'].replace(['I would not be willing to pay anything to continue using ChatGPT.', '< 200 INR', '200-400 INR', '> 400 INR'], [0,1,2,3], inplace=True)\n",
        "df1['Q10'].replace(['Yes','No'], [1,0], inplace=True)\n",
        "df1['Q11'].replace(['Very important','Somewhat important','Neutral/ Not sure','Not very important','Not important at all'], [4, 3, 2, 1, 0], inplace=True)\n",
        "df1[\"Q12\"].replace([1,0], [0,1], inplace=True)\n",
        "df1['Q13'].replace(['Yes, ChatGPT has had a very positive impact on my search for information online.', 'Yes, ChatGPT has had a somewhat positive impact on my search for information online.', 'Neutral/Not sure', 'No, ChatGPT has not had a positive impact on my search for information online.', 'No, ChatGPT has actually had a negative impact on my search for information online.'], [4, 3, 2, 1, 0], inplace=True)\n",
        "df1['Q14'].replace(['I would be happy to use ChatGPT as my primary search engine.', 'I would miss Google but would be willing to use ChatGPT as my primary search engine.', 'Neutral/Not sure', 'I would be unhappy and would try to find an alternative search engine.', 'I would be very unhappy and would not use ChatGPT as my primary search engine.'], [4, 3, 2, 1, 0], inplace=True)"
      ],
      "metadata": {
        "id": "jeHiyYE5mZjl"
      },
      "execution_count": null,
      "outputs": []
    },
    {
      "cell_type": "code",
      "source": [
        "df1"
      ],
      "metadata": {
        "colab": {
          "base_uri": "https://localhost:8080/",
          "height": 423
        },
        "id": "vV6YtWwxrCA2",
        "outputId": "23360cd4-596a-4aae-aaac-1b91904735be"
      },
      "execution_count": null,
      "outputs": [
        {
          "output_type": "execute_result",
          "data": {
            "text/plain": [
              "     Gender   Age  Position  Q1  Q2  \\\n",
              "0      Male  18.0   Student   1   1   \n",
              "1      Male  17.0   Student   1   4   \n",
              "2      Male  21.0   Student   1   4   \n",
              "4      Male  19.0   Student   1   1   \n",
              "5      Male  23.0  Employed   1   2   \n",
              "..      ...   ...       ...  ..  ..   \n",
              "162    Male  21.0   Student   1   4   \n",
              "163  Female  21.0   Student   1   3   \n",
              "164  Female  21.0   Student   1   3   \n",
              "165    Male  19.0   Student   1   2   \n",
              "166  Female  20.0   Student   1   4   \n",
              "\n",
              "                                                    Q3  Q4  Q5  Q6  Q7  Q8  \\\n",
              "0    To get answers to specific questions, To gener...   3   2   0   4   0   \n",
              "1    To get answers to specific questions, To gener...   3   1   1   3   0   \n",
              "2    To get answers to specific questions, To gener...   4   3   1   4   0   \n",
              "4                     To complete assignments/homework   4   3   0   2   0   \n",
              "5    To get answers to specific questions, To write...   4   4   0   2   0   \n",
              "..                                                 ...  ..  ..  ..  ..  ..   \n",
              "162  To get answers to specific questions, To write...   4   2   1   4   2   \n",
              "163  To get answers to specific questions, To gener...   4   3   0   3   1   \n",
              "164  To get answers to specific questions, To compl...   4   4   0   3   1   \n",
              "165  To get answers to specific questions, To compl...   3   3   0   2   0   \n",
              "166  To get answers to specific questions, To write...   4   3   1   3   3   \n",
              "\n",
              "     Q9  Q10  Q11  Q12  Q13  Q14  \n",
              "0     0    1    3    2    4    3  \n",
              "1     0    0    3    0    2    2  \n",
              "2     0    0    4    0    3    2  \n",
              "4     0    1    2    0    2    3  \n",
              "5     0    0    3    0    3    1  \n",
              "..   ..  ...  ...  ...  ...  ...  \n",
              "162   1    1    4    2    4    4  \n",
              "163   0    0    4    1    4    3  \n",
              "164   0    0    4    2    3    1  \n",
              "165   1    1    4    1    3    3  \n",
              "166   1    0    4    2    4    3  \n",
              "\n",
              "[135 rows x 17 columns]"
            ],
            "text/html": [
              "\n",
              "  <div id=\"df-94f5a064-0847-4ad5-8633-199442410876\">\n",
              "    <div class=\"colab-df-container\">\n",
              "      <div>\n",
              "<style scoped>\n",
              "    .dataframe tbody tr th:only-of-type {\n",
              "        vertical-align: middle;\n",
              "    }\n",
              "\n",
              "    .dataframe tbody tr th {\n",
              "        vertical-align: top;\n",
              "    }\n",
              "\n",
              "    .dataframe thead th {\n",
              "        text-align: right;\n",
              "    }\n",
              "</style>\n",
              "<table border=\"1\" class=\"dataframe\">\n",
              "  <thead>\n",
              "    <tr style=\"text-align: right;\">\n",
              "      <th></th>\n",
              "      <th>Gender</th>\n",
              "      <th>Age</th>\n",
              "      <th>Position</th>\n",
              "      <th>Q1</th>\n",
              "      <th>Q2</th>\n",
              "      <th>Q3</th>\n",
              "      <th>Q4</th>\n",
              "      <th>Q5</th>\n",
              "      <th>Q6</th>\n",
              "      <th>Q7</th>\n",
              "      <th>Q8</th>\n",
              "      <th>Q9</th>\n",
              "      <th>Q10</th>\n",
              "      <th>Q11</th>\n",
              "      <th>Q12</th>\n",
              "      <th>Q13</th>\n",
              "      <th>Q14</th>\n",
              "    </tr>\n",
              "  </thead>\n",
              "  <tbody>\n",
              "    <tr>\n",
              "      <th>0</th>\n",
              "      <td>Male</td>\n",
              "      <td>18.0</td>\n",
              "      <td>Student</td>\n",
              "      <td>1</td>\n",
              "      <td>1</td>\n",
              "      <td>To get answers to specific questions, To gener...</td>\n",
              "      <td>3</td>\n",
              "      <td>2</td>\n",
              "      <td>0</td>\n",
              "      <td>4</td>\n",
              "      <td>0</td>\n",
              "      <td>0</td>\n",
              "      <td>1</td>\n",
              "      <td>3</td>\n",
              "      <td>2</td>\n",
              "      <td>4</td>\n",
              "      <td>3</td>\n",
              "    </tr>\n",
              "    <tr>\n",
              "      <th>1</th>\n",
              "      <td>Male</td>\n",
              "      <td>17.0</td>\n",
              "      <td>Student</td>\n",
              "      <td>1</td>\n",
              "      <td>4</td>\n",
              "      <td>To get answers to specific questions, To gener...</td>\n",
              "      <td>3</td>\n",
              "      <td>1</td>\n",
              "      <td>1</td>\n",
              "      <td>3</td>\n",
              "      <td>0</td>\n",
              "      <td>0</td>\n",
              "      <td>0</td>\n",
              "      <td>3</td>\n",
              "      <td>0</td>\n",
              "      <td>2</td>\n",
              "      <td>2</td>\n",
              "    </tr>\n",
              "    <tr>\n",
              "      <th>2</th>\n",
              "      <td>Male</td>\n",
              "      <td>21.0</td>\n",
              "      <td>Student</td>\n",
              "      <td>1</td>\n",
              "      <td>4</td>\n",
              "      <td>To get answers to specific questions, To gener...</td>\n",
              "      <td>4</td>\n",
              "      <td>3</td>\n",
              "      <td>1</td>\n",
              "      <td>4</td>\n",
              "      <td>0</td>\n",
              "      <td>0</td>\n",
              "      <td>0</td>\n",
              "      <td>4</td>\n",
              "      <td>0</td>\n",
              "      <td>3</td>\n",
              "      <td>2</td>\n",
              "    </tr>\n",
              "    <tr>\n",
              "      <th>4</th>\n",
              "      <td>Male</td>\n",
              "      <td>19.0</td>\n",
              "      <td>Student</td>\n",
              "      <td>1</td>\n",
              "      <td>1</td>\n",
              "      <td>To complete assignments/homework</td>\n",
              "      <td>4</td>\n",
              "      <td>3</td>\n",
              "      <td>0</td>\n",
              "      <td>2</td>\n",
              "      <td>0</td>\n",
              "      <td>0</td>\n",
              "      <td>1</td>\n",
              "      <td>2</td>\n",
              "      <td>0</td>\n",
              "      <td>2</td>\n",
              "      <td>3</td>\n",
              "    </tr>\n",
              "    <tr>\n",
              "      <th>5</th>\n",
              "      <td>Male</td>\n",
              "      <td>23.0</td>\n",
              "      <td>Employed</td>\n",
              "      <td>1</td>\n",
              "      <td>2</td>\n",
              "      <td>To get answers to specific questions, To write...</td>\n",
              "      <td>4</td>\n",
              "      <td>4</td>\n",
              "      <td>0</td>\n",
              "      <td>2</td>\n",
              "      <td>0</td>\n",
              "      <td>0</td>\n",
              "      <td>0</td>\n",
              "      <td>3</td>\n",
              "      <td>0</td>\n",
              "      <td>3</td>\n",
              "      <td>1</td>\n",
              "    </tr>\n",
              "    <tr>\n",
              "      <th>...</th>\n",
              "      <td>...</td>\n",
              "      <td>...</td>\n",
              "      <td>...</td>\n",
              "      <td>...</td>\n",
              "      <td>...</td>\n",
              "      <td>...</td>\n",
              "      <td>...</td>\n",
              "      <td>...</td>\n",
              "      <td>...</td>\n",
              "      <td>...</td>\n",
              "      <td>...</td>\n",
              "      <td>...</td>\n",
              "      <td>...</td>\n",
              "      <td>...</td>\n",
              "      <td>...</td>\n",
              "      <td>...</td>\n",
              "      <td>...</td>\n",
              "    </tr>\n",
              "    <tr>\n",
              "      <th>162</th>\n",
              "      <td>Male</td>\n",
              "      <td>21.0</td>\n",
              "      <td>Student</td>\n",
              "      <td>1</td>\n",
              "      <td>4</td>\n",
              "      <td>To get answers to specific questions, To write...</td>\n",
              "      <td>4</td>\n",
              "      <td>2</td>\n",
              "      <td>1</td>\n",
              "      <td>4</td>\n",
              "      <td>2</td>\n",
              "      <td>1</td>\n",
              "      <td>1</td>\n",
              "      <td>4</td>\n",
              "      <td>2</td>\n",
              "      <td>4</td>\n",
              "      <td>4</td>\n",
              "    </tr>\n",
              "    <tr>\n",
              "      <th>163</th>\n",
              "      <td>Female</td>\n",
              "      <td>21.0</td>\n",
              "      <td>Student</td>\n",
              "      <td>1</td>\n",
              "      <td>3</td>\n",
              "      <td>To get answers to specific questions, To gener...</td>\n",
              "      <td>4</td>\n",
              "      <td>3</td>\n",
              "      <td>0</td>\n",
              "      <td>3</td>\n",
              "      <td>1</td>\n",
              "      <td>0</td>\n",
              "      <td>0</td>\n",
              "      <td>4</td>\n",
              "      <td>1</td>\n",
              "      <td>4</td>\n",
              "      <td>3</td>\n",
              "    </tr>\n",
              "    <tr>\n",
              "      <th>164</th>\n",
              "      <td>Female</td>\n",
              "      <td>21.0</td>\n",
              "      <td>Student</td>\n",
              "      <td>1</td>\n",
              "      <td>3</td>\n",
              "      <td>To get answers to specific questions, To compl...</td>\n",
              "      <td>4</td>\n",
              "      <td>4</td>\n",
              "      <td>0</td>\n",
              "      <td>3</td>\n",
              "      <td>1</td>\n",
              "      <td>0</td>\n",
              "      <td>0</td>\n",
              "      <td>4</td>\n",
              "      <td>2</td>\n",
              "      <td>3</td>\n",
              "      <td>1</td>\n",
              "    </tr>\n",
              "    <tr>\n",
              "      <th>165</th>\n",
              "      <td>Male</td>\n",
              "      <td>19.0</td>\n",
              "      <td>Student</td>\n",
              "      <td>1</td>\n",
              "      <td>2</td>\n",
              "      <td>To get answers to specific questions, To compl...</td>\n",
              "      <td>3</td>\n",
              "      <td>3</td>\n",
              "      <td>0</td>\n",
              "      <td>2</td>\n",
              "      <td>0</td>\n",
              "      <td>1</td>\n",
              "      <td>1</td>\n",
              "      <td>4</td>\n",
              "      <td>1</td>\n",
              "      <td>3</td>\n",
              "      <td>3</td>\n",
              "    </tr>\n",
              "    <tr>\n",
              "      <th>166</th>\n",
              "      <td>Female</td>\n",
              "      <td>20.0</td>\n",
              "      <td>Student</td>\n",
              "      <td>1</td>\n",
              "      <td>4</td>\n",
              "      <td>To get answers to specific questions, To write...</td>\n",
              "      <td>4</td>\n",
              "      <td>3</td>\n",
              "      <td>1</td>\n",
              "      <td>3</td>\n",
              "      <td>3</td>\n",
              "      <td>1</td>\n",
              "      <td>0</td>\n",
              "      <td>4</td>\n",
              "      <td>2</td>\n",
              "      <td>4</td>\n",
              "      <td>3</td>\n",
              "    </tr>\n",
              "  </tbody>\n",
              "</table>\n",
              "<p>135 rows × 17 columns</p>\n",
              "</div>\n",
              "      <button class=\"colab-df-convert\" onclick=\"convertToInteractive('df-94f5a064-0847-4ad5-8633-199442410876')\"\n",
              "              title=\"Convert this dataframe to an interactive table.\"\n",
              "              style=\"display:none;\">\n",
              "        \n",
              "  <svg xmlns=\"http://www.w3.org/2000/svg\" height=\"24px\"viewBox=\"0 0 24 24\"\n",
              "       width=\"24px\">\n",
              "    <path d=\"M0 0h24v24H0V0z\" fill=\"none\"/>\n",
              "    <path d=\"M18.56 5.44l.94 2.06.94-2.06 2.06-.94-2.06-.94-.94-2.06-.94 2.06-2.06.94zm-11 1L8.5 8.5l.94-2.06 2.06-.94-2.06-.94L8.5 2.5l-.94 2.06-2.06.94zm10 10l.94 2.06.94-2.06 2.06-.94-2.06-.94-.94-2.06-.94 2.06-2.06.94z\"/><path d=\"M17.41 7.96l-1.37-1.37c-.4-.4-.92-.59-1.43-.59-.52 0-1.04.2-1.43.59L10.3 9.45l-7.72 7.72c-.78.78-.78 2.05 0 2.83L4 21.41c.39.39.9.59 1.41.59.51 0 1.02-.2 1.41-.59l7.78-7.78 2.81-2.81c.8-.78.8-2.07 0-2.86zM5.41 20L4 18.59l7.72-7.72 1.47 1.35L5.41 20z\"/>\n",
              "  </svg>\n",
              "      </button>\n",
              "      \n",
              "  <style>\n",
              "    .colab-df-container {\n",
              "      display:flex;\n",
              "      flex-wrap:wrap;\n",
              "      gap: 12px;\n",
              "    }\n",
              "\n",
              "    .colab-df-convert {\n",
              "      background-color: #E8F0FE;\n",
              "      border: none;\n",
              "      border-radius: 50%;\n",
              "      cursor: pointer;\n",
              "      display: none;\n",
              "      fill: #1967D2;\n",
              "      height: 32px;\n",
              "      padding: 0 0 0 0;\n",
              "      width: 32px;\n",
              "    }\n",
              "\n",
              "    .colab-df-convert:hover {\n",
              "      background-color: #E2EBFA;\n",
              "      box-shadow: 0px 1px 2px rgba(60, 64, 67, 0.3), 0px 1px 3px 1px rgba(60, 64, 67, 0.15);\n",
              "      fill: #174EA6;\n",
              "    }\n",
              "\n",
              "    [theme=dark] .colab-df-convert {\n",
              "      background-color: #3B4455;\n",
              "      fill: #D2E3FC;\n",
              "    }\n",
              "\n",
              "    [theme=dark] .colab-df-convert:hover {\n",
              "      background-color: #434B5C;\n",
              "      box-shadow: 0px 1px 3px 1px rgba(0, 0, 0, 0.15);\n",
              "      filter: drop-shadow(0px 1px 2px rgba(0, 0, 0, 0.3));\n",
              "      fill: #FFFFFF;\n",
              "    }\n",
              "  </style>\n",
              "\n",
              "      <script>\n",
              "        const buttonEl =\n",
              "          document.querySelector('#df-94f5a064-0847-4ad5-8633-199442410876 button.colab-df-convert');\n",
              "        buttonEl.style.display =\n",
              "          google.colab.kernel.accessAllowed ? 'block' : 'none';\n",
              "\n",
              "        async function convertToInteractive(key) {\n",
              "          const element = document.querySelector('#df-94f5a064-0847-4ad5-8633-199442410876');\n",
              "          const dataTable =\n",
              "            await google.colab.kernel.invokeFunction('convertToInteractive',\n",
              "                                                     [key], {});\n",
              "          if (!dataTable) return;\n",
              "\n",
              "          const docLinkHtml = 'Like what you see? Visit the ' +\n",
              "            '<a target=\"_blank\" href=https://colab.research.google.com/notebooks/data_table.ipynb>data table notebook</a>'\n",
              "            + ' to learn more about interactive tables.';\n",
              "          element.innerHTML = '';\n",
              "          dataTable['output_type'] = 'display_data';\n",
              "          await google.colab.output.renderOutput(dataTable, element);\n",
              "          const docLink = document.createElement('div');\n",
              "          docLink.innerHTML = docLinkHtml;\n",
              "          element.appendChild(docLink);\n",
              "        }\n",
              "      </script>\n",
              "    </div>\n",
              "  </div>\n",
              "  "
            ]
          },
          "metadata": {},
          "execution_count": 13
        }
      ]
    },
    {
      "cell_type": "markdown",
      "source": [
        "**Shapiro Test: Check for Normality of continuous data**"
      ],
      "metadata": {
        "id": "P5dqo0WCXuZ0"
      }
    },
    {
      "cell_type": "code",
      "source": [
        "data = df1['Age']\n",
        "stat, p = stats.shapiro(data)\n",
        "print('Shapiro-Wilk test statistic:', stat)\n",
        "print('p-value:', p)"
      ],
      "metadata": {
        "colab": {
          "base_uri": "https://localhost:8080/"
        },
        "id": "4XY54g5SQzv-",
        "outputId": "34b13205-b944-4154-9c4c-7a3f77c8393d"
      },
      "execution_count": null,
      "outputs": [
        {
          "output_type": "stream",
          "name": "stdout",
          "text": [
            "Shapiro-Wilk test statistic: 0.8917949199676514\n",
            "p-value: 1.818869499459197e-08\n"
          ]
        }
      ]
    },
    {
      "cell_type": "markdown",
      "source": [
        "*P-value significant, hence Age is NOT normally distributed*"
      ],
      "metadata": {
        "id": "Mi86xVMtYEsn"
      }
    },
    {
      "cell_type": "markdown",
      "source": [
        "**QQPlot: Check for the fit of the distribution and normality**"
      ],
      "metadata": {
        "id": "n9qoIBV0Ym-l"
      }
    },
    {
      "cell_type": "code",
      "source": [
        "import pylab\n",
        "sm.qqplot(data)"
      ],
      "metadata": {
        "colab": {
          "base_uri": "https://localhost:8080/",
          "height": 881
        },
        "id": "ey49yo7sRGYZ",
        "outputId": "6ef8107f-02b4-4044-f9e3-93be95c25ad6"
      },
      "execution_count": null,
      "outputs": [
        {
          "output_type": "execute_result",
          "data": {
            "text/plain": [
              "<Figure size 640x480 with 1 Axes>"
            ],
            "image/png": "[encoded data removed]"
          },
          "metadata": {},
          "execution_count": 15
        },
        {
          "output_type": "display_data",
          "data": {
            "text/plain": [
              "<Figure size 640x480 with 1 Axes>"
            ],
            "image/png": "[encoded data removed]"
          },
          "metadata": {}
        }
      ]
    },
    {
      "cell_type": "markdown",
      "source": [
        "*Plot is deviating from a straight line, hence not normally distributed*"
      ],
      "metadata": {
        "id": "W6RempQxYwYO"
      }
    },
    {
      "cell_type": "markdown",
      "source": [
        "**Skewness & Kurtosis**"
      ],
      "metadata": {
        "id": "xek3iUk_ZExc"
      }
    },
    {
      "cell_type": "code",
      "source": [
        "from scipy.stats import skew, kurtosis\n",
        "skewness = skew(data)\n",
        "kurt = kurtosis(data)\n",
        "print(\"Skewness:\", skewness)\n",
        "print(\"Kurtosis:\", kurt)"
      ],
      "metadata": {
        "colab": {
          "base_uri": "https://localhost:8080/"
        },
        "id": "ZN3ImwAqRdWm",
        "outputId": "ee2b6809-858a-4a66-d245-e34d86569f48"
      },
      "execution_count": null,
      "outputs": [
        {
          "output_type": "stream",
          "name": "stdout",
          "text": [
            "Skewness: 1.0941033311654866\n",
            "Kurtosis: 2.6649518809478074\n"
          ]
        }
      ]
    },
    {
      "cell_type": "markdown",
      "source": [
        "**Ploting the distribution**"
      ],
      "metadata": {
        "id": "5RMfrIr4Zbqo"
      }
    },
    {
      "cell_type": "code",
      "source": [
        "import matplotlib.pyplot as plt\n",
        "plt.figure(figsize=(4,3))\n",
        "plt.hist(df['Age'], bins=20)\n",
        "plt.title('Distribution of Age')\n",
        "plt.xlabel('Age')\n",
        "plt.ylabel('Frequency')"
      ],
      "metadata": {
        "colab": {
          "base_uri": "https://localhost:8080/",
          "height": 350
        },
        "id": "0cLZYNAqRo7J",
        "outputId": "7ac27da1-5f34-47dc-861c-e2aadfc6f609"
      },
      "execution_count": null,
      "outputs": [
        {
          "output_type": "execute_result",
          "data": {
            "text/plain": [
              "Text(0, 0.5, 'Frequency')"
            ]
          },
          "metadata": {},
          "execution_count": 17
        },
        {
          "output_type": "display_data",
          "data": {
            "text/plain": [
              "<Figure size 400x300 with 1 Axes>"
            ],
            "image/png": "[encoded data removed]"
          },
          "metadata": {}
        }
      ]
    },
    {
      "cell_type": "markdown",
      "source": [
        "**Levene Test: Check for homogenity of variance**"
      ],
      "metadata": {
        "id": "Kp8j9AADZj0x"
      }
    },
    {
      "cell_type": "code",
      "source": [
        "from scipy.stats import levene\n",
        "\n",
        "statistic, p_value = levene(df1['Q4'], df1['Q5'])\n",
        "print(\"Levene's test statistic:\", statistic)\n",
        "print(\"p-value:\", p_value)"
      ],
      "metadata": {
        "colab": {
          "base_uri": "https://localhost:8080/"
        },
        "id": "U-gpLRl4YWF3",
        "outputId": "0c4ef669-c9e7-4725-aaec-df69d41bbbdf"
      },
      "execution_count": null,
      "outputs": [
        {
          "output_type": "stream",
          "name": "stdout",
          "text": [
            "Levene's test statistic: 15.981223922114049\n",
            "p-value: 8.276438598208489e-05\n"
          ]
        }
      ]
    },
    {
      "cell_type": "code",
      "source": [
        "from scipy.stats import brownforsythe\n",
        "statistic, p_value = brownforsythe(x, y)\n",
        "\n",
        "# Print the test statistic and p-value\n",
        "print(\"Brown-Forsythe test statistic: \", statistic)\n",
        "print(\"p-value: \", p_value)"
      ],
      "metadata": {
        "id": "39b6vkOxVs9O"
      },
      "execution_count": null,
      "outputs": []
    },
    {
      "cell_type": "markdown",
      "source": [
        "*P value significant,the groups have unequal variance\n",
        "Therefore we cannot perform Parametric Tests and need to conduct Non-Parametric Tests*"
      ],
      "metadata": {
        "id": "OpyWdTjlZvrM"
      }
    },
    {
      "cell_type": "markdown",
      "source": [
        "**Wilcoxon Rank-Sum test: Alternative to paired-ttest**"
      ],
      "metadata": {
        "id": "t9wslZTEbBUH"
      }
    },
    {
      "cell_type": "code",
      "source": [
        "# Ho: Google usage before - Google usage since = 0\n",
        "# Ha: Google usage before - Google usage since != 0"
      ],
      "metadata": {
        "id": "oviX4AC4n_5R"
      },
      "execution_count": null,
      "outputs": []
    },
    {
      "cell_type": "code",
      "source": [
        "from scipy.stats import wilcoxon\n",
        "before = df1['Q4']\n",
        "since = df1['Q5']\n",
        "statistic, p_value = wilcoxon(before, since)\n",
        "\n",
        "print(\"Wilcoxon signed-rank test statistic:\", statistic)\n",
        "print(\"p-value:\", p_value)\n"
      ],
      "metadata": {
        "colab": {
          "base_uri": "https://localhost:8080/"
        },
        "id": "IfQLh_f3Yg2v",
        "outputId": "a2d8e4eb-169e-4a4f-9f09-5267784595b0"
      },
      "execution_count": null,
      "outputs": [
        {
          "output_type": "stream",
          "name": "stdout",
          "text": [
            "Wilcoxon signed-rank test statistic: 146.5\n",
            "p-value: 5.215475629335226e-07\n"
          ]
        }
      ]
    },
    {
      "cell_type": "markdown",
      "source": [
        "*P value significant, hence the Google usage of our sample has been impacted due to the Presence of ChatGPT*"
      ],
      "metadata": {
        "id": "my5xA7XMbTVP"
      }
    },
    {
      "cell_type": "code",
      "source": [
        "before.median()"
      ],
      "metadata": {
        "colab": {
          "base_uri": "https://localhost:8080/"
        },
        "id": "HmWKjcCdce2x",
        "outputId": "62892334-9e16-4aad-a35a-01ec676e852a"
      },
      "execution_count": null,
      "outputs": [
        {
          "output_type": "execute_result",
          "data": {
            "text/plain": [
              "4.0"
            ]
          },
          "metadata": {},
          "execution_count": 21
        }
      ]
    },
    {
      "cell_type": "code",
      "source": [
        "since.median()"
      ],
      "metadata": {
        "colab": {
          "base_uri": "https://localhost:8080/"
        },
        "id": "3HpPoBZKZtPM",
        "outputId": "d1afe4a7-ffc5-46d2-df3d-2d8c8f1e159a"
      },
      "execution_count": null,
      "outputs": [
        {
          "output_type": "execute_result",
          "data": {
            "text/plain": [
              "4.0"
            ]
          },
          "metadata": {},
          "execution_count": 22
        }
      ]
    },
    {
      "cell_type": "markdown",
      "source": [
        "**Comparing the proportions of Google usage amongsnt daily users, before and after their introduction to ChatGPT**"
      ],
      "metadata": {
        "id": "CEkWXS7Db2DW"
      }
    },
    {
      "cell_type": "code",
      "source": [
        "import numpy as np\n",
        "from scipy.stats import binom\n",
        "\n",
        "# Assume 'before' and 'after' are your data arrays\n",
        "\n",
        "# Compute the proportion of maximum score attained in each group\n",
        "prop_before = np.sum(before == 4) / len(before)\n",
        "prop_after = np.sum(since == 4) / len(since)\n",
        "n = len(before)\n",
        "p_null = np.sum(before == 4) / n\n",
        "se_null = np.sqrt(p_null * (1 - p_null) / n)\n",
        "prop_null = binom.cdf(np.round(n * prop_after), n, p_null + se_null / 2)\n",
        "\n",
        "# Perform one-sided hypothesis test\n",
        "if prop_before > prop_null:\n",
        "    print(\"The proportion of maximum score attained in ChatGPT usage was greater before the period.\")\n",
        "else:\n",
        "    print(\"There was no significant difference in the proportion of maximum score attained in ChatGPT usage.\")\n"
      ],
      "metadata": {
        "colab": {
          "base_uri": "https://localhost:8080/"
        },
        "id": "MulewExPaMhP",
        "outputId": "e6d9041a-0bd9-4ed2-ae62-e79d3d5f2e6c"
      },
      "execution_count": null,
      "outputs": [
        {
          "output_type": "stream",
          "name": "stdout",
          "text": [
            "The proportion of maximum score attained in ChatGPT usage was greater before the period.\n"
          ]
        }
      ]
    },
    {
      "cell_type": "markdown",
      "source": [
        "**Kruskal-Wallis Test: Alternative to ANOVA, no dependency on normality or variance homogenity**"
      ],
      "metadata": {
        "id": "AamCT7QacEZy"
      }
    },
    {
      "cell_type": "code",
      "source": [
        "from scipy.stats import kruskal\n",
        "student_group = df1[df1['Position'] == 'Student']\n",
        "employed_group = df1[df1['Position'] == 'Employed']\n",
        "student=student_group['Q6']\n",
        "employed=employed_group['Q6']\n",
        "stat, p_value = kruskal(student,employed)\n",
        "\n",
        "print(\"Kruskal-Wallis Test\")\n",
        "print(f\"Test statistic: {stat:.3f}\")\n",
        "print(f\"P-value: {p_value:.3f}\")"
      ],
      "metadata": {
        "colab": {
          "base_uri": "https://localhost:8080/"
        },
        "id": "OUdVkxPjjfLa",
        "outputId": "43fc5369-b3ea-4ef0-f6bf-0b4629af8060"
      },
      "execution_count": null,
      "outputs": [
        {
          "output_type": "stream",
          "name": "stdout",
          "text": [
            "Kruskal-Wallis Test\n",
            "Test statistic: 4.014\n",
            "P-value: 0.045\n"
          ]
        }
      ]
    },
    {
      "cell_type": "markdown",
      "source": [
        "*P-value significant, hence there is a difference between the outlook of both Students and Employed when it comes to ChatGPT replacing Google as the primary source of information.*"
      ],
      "metadata": {
        "id": "mYI-S11fdUVr"
      }
    },
    {
      "cell_type": "markdown",
      "source": [
        "**Logistic Regression**"
      ],
      "metadata": {
        "id": "mw6EP0baniuY"
      }
    },
    {
      "cell_type": "code",
      "source": [
        "df2=df1\n",
        "df2"
      ],
      "metadata": {
        "colab": {
          "base_uri": "https://localhost:8080/",
          "height": 423
        },
        "id": "17m3x5mnozSg",
        "outputId": "019adfea-ac60-421b-bb7e-c5ea5feed644"
      },
      "execution_count": null,
      "outputs": [
        {
          "output_type": "execute_result",
          "data": {
            "text/plain": [
              "     Gender   Age  Position  Q1  Q2  \\\n",
              "0      Male  18.0   Student   1   1   \n",
              "1      Male  17.0   Student   1   4   \n",
              "2      Male  21.0   Student   1   4   \n",
              "4      Male  19.0   Student   1   1   \n",
              "5      Male  23.0  Employed   1   2   \n",
              "..      ...   ...       ...  ..  ..   \n",
              "162    Male  21.0   Student   1   4   \n",
              "163  Female  21.0   Student   1   3   \n",
              "164  Female  21.0   Student   1   3   \n",
              "165    Male  19.0   Student   1   2   \n",
              "166  Female  20.0   Student   1   4   \n",
              "\n",
              "                                                    Q3  Q4  Q5  Q6  Q7  Q8  \\\n",
              "0    To get answers to specific questions, To gener...   3   2   0   4   0   \n",
              "1    To get answers to specific questions, To gener...   3   1   1   3   0   \n",
              "2    To get answers to specific questions, To gener...   4   3   1   4   0   \n",
              "4                     To complete assignments/homework   4   3   0   2   0   \n",
              "5    To get answers to specific questions, To write...   4   4   0   2   0   \n",
              "..                                                 ...  ..  ..  ..  ..  ..   \n",
              "162  To get answers to specific questions, To write...   4   2   1   4   2   \n",
              "163  To get answers to specific questions, To gener...   4   3   0   3   1   \n",
              "164  To get answers to specific questions, To compl...   4   4   0   3   1   \n",
              "165  To get answers to specific questions, To compl...   3   3   0   2   0   \n",
              "166  To get answers to specific questions, To write...   4   3   1   3   3   \n",
              "\n",
              "     Q9  Q10  Q11  Q12  Q13  Q14  \n",
              "0     0    1    3    2    4    3  \n",
              "1     0    0    3    0    2    2  \n",
              "2     0    0    4    0    3    2  \n",
              "4     0    1    2    0    2    3  \n",
              "5     0    0    3    0    3    1  \n",
              "..   ..  ...  ...  ...  ...  ...  \n",
              "162   1    1    4    2    4    4  \n",
              "163   0    0    4    1    4    3  \n",
              "164   0    0    4    2    3    1  \n",
              "165   1    1    4    1    3    3  \n",
              "166   1    0    4    2    4    3  \n",
              "\n",
              "[135 rows x 17 columns]"
            ],
            "text/html": [
              "\n",
              "  <div id=\"df-dfc8cc2e-3974-488a-8ef9-a80f79b2ac73\">\n",
              "    <div class=\"colab-df-container\">\n",
              "      <div>\n",
              "<style scoped>\n",
              "    .dataframe tbody tr th:only-of-type {\n",
              "        vertical-align: middle;\n",
              "    }\n",
              "\n",
              "    .dataframe tbody tr th {\n",
              "        vertical-align: top;\n",
              "    }\n",
              "\n",
              "    .dataframe thead th {\n",
              "        text-align: right;\n",
              "    }\n",
              "</style>\n",
              "<table border=\"1\" class=\"dataframe\">\n",
              "  <thead>\n",
              "    <tr style=\"text-align: right;\">\n",
              "      <th></th>\n",
              "      <th>Gender</th>\n",
              "      <th>Age</th>\n",
              "      <th>Position</th>\n",
              "      <th>Q1</th>\n",
              "      <th>Q2</th>\n",
              "      <th>Q3</th>\n",
              "      <th>Q4</th>\n",
              "      <th>Q5</th>\n",
              "      <th>Q6</th>\n",
              "      <th>Q7</th>\n",
              "      <th>Q8</th>\n",
              "      <th>Q9</th>\n",
              "      <th>Q10</th>\n",
              "      <th>Q11</th>\n",
              "      <th>Q12</th>\n",
              "      <th>Q13</th>\n",
              "      <th>Q14</th>\n",
              "    </tr>\n",
              "  </thead>\n",
              "  <tbody>\n",
              "    <tr>\n",
              "      <th>0</th>\n",
              "      <td>Male</td>\n",
              "      <td>18.0</td>\n",
              "      <td>Student</td>\n",
              "      <td>1</td>\n",
              "      <td>1</td>\n",
              "      <td>To get answers to specific questions, To gener...</td>\n",
              "      <td>3</td>\n",
              "      <td>2</td>\n",
              "      <td>0</td>\n",
              "      <td>4</td>\n",
              "      <td>0</td>\n",
              "      <td>0</td>\n",
              "      <td>1</td>\n",
              "      <td>3</td>\n",
              "      <td>2</td>\n",
              "      <td>4</td>\n",
              "      <td>3</td>\n",
              "    </tr>\n",
              "    <tr>\n",
              "      <th>1</th>\n",
              "      <td>Male</td>\n",
              "      <td>17.0</td>\n",
              "      <td>Student</td>\n",
              "      <td>1</td>\n",
              "      <td>4</td>\n",
              "      <td>To get answers to specific questions, To gener...</td>\n",
              "      <td>3</td>\n",
              "      <td>1</td>\n",
              "      <td>1</td>\n",
              "      <td>3</td>\n",
              "      <td>0</td>\n",
              "      <td>0</td>\n",
              "      <td>0</td>\n",
              "      <td>3</td>\n",
              "      <td>0</td>\n",
              "      <td>2</td>\n",
              "      <td>2</td>\n",
              "    </tr>\n",
              "    <tr>\n",
              "      <th>2</th>\n",
              "      <td>Male</td>\n",
              "      <td>21.0</td>\n",
              "      <td>Student</td>\n",
              "      <td>1</td>\n",
              "      <td>4</td>\n",
              "      <td>To get answers to specific questions, To gener...</td>\n",
              "      <td>4</td>\n",
              "      <td>3</td>\n",
              "      <td>1</td>\n",
              "      <td>4</td>\n",
              "      <td>0</td>\n",
              "      <td>0</td>\n",
              "      <td>0</td>\n",
              "      <td>4</td>\n",
              "      <td>0</td>\n",
              "      <td>3</td>\n",
              "      <td>2</td>\n",
              "    </tr>\n",
              "    <tr>\n",
              "      <th>4</th>\n",
              "      <td>Male</td>\n",
              "      <td>19.0</td>\n",
              "      <td>Student</td>\n",
              "      <td>1</td>\n",
              "      <td>1</td>\n",
              "      <td>To complete assignments/homework</td>\n",
              "      <td>4</td>\n",
              "      <td>3</td>\n",
              "      <td>0</td>\n",
              "      <td>2</td>\n",
              "      <td>0</td>\n",
              "      <td>0</td>\n",
              "      <td>1</td>\n",
              "      <td>2</td>\n",
              "      <td>0</td>\n",
              "      <td>2</td>\n",
              "      <td>3</td>\n",
              "    </tr>\n",
              "    <tr>\n",
              "      <th>5</th>\n",
              "      <td>Male</td>\n",
              "      <td>23.0</td>\n",
              "      <td>Employed</td>\n",
              "      <td>1</td>\n",
              "      <td>2</td>\n",
              "      <td>To get answers to specific questions, To write...</td>\n",
              "      <td>4</td>\n",
              "      <td>4</td>\n",
              "      <td>0</td>\n",
              "      <td>2</td>\n",
              "      <td>0</td>\n",
              "      <td>0</td>\n",
              "      <td>0</td>\n",
              "      <td>3</td>\n",
              "      <td>0</td>\n",
              "      <td>3</td>\n",
              "      <td>1</td>\n",
              "    </tr>\n",
              "    <tr>\n",
              "      <th>...</th>\n",
              "      <td>...</td>\n",
              "      <td>...</td>\n",
              "      <td>...</td>\n",
              "      <td>...</td>\n",
              "      <td>...</td>\n",
              "      <td>...</td>\n",
              "      <td>...</td>\n",
              "      <td>...</td>\n",
              "      <td>...</td>\n",
              "      <td>...</td>\n",
              "      <td>...</td>\n",
              "      <td>...</td>\n",
              "      <td>...</td>\n",
              "      <td>...</td>\n",
              "      <td>...</td>\n",
              "      <td>...</td>\n",
              "      <td>...</td>\n",
              "    </tr>\n",
              "    <tr>\n",
              "      <th>162</th>\n",
              "      <td>Male</td>\n",
              "      <td>21.0</td>\n",
              "      <td>Student</td>\n",
              "      <td>1</td>\n",
              "      <td>4</td>\n",
              "      <td>To get answers to specific questions, To write...</td>\n",
              "      <td>4</td>\n",
              "      <td>2</td>\n",
              "      <td>1</td>\n",
              "      <td>4</td>\n",
              "      <td>2</td>\n",
              "      <td>1</td>\n",
              "      <td>1</td>\n",
              "      <td>4</td>\n",
              "      <td>2</td>\n",
              "      <td>4</td>\n",
              "      <td>4</td>\n",
              "    </tr>\n",
              "    <tr>\n",
              "      <th>163</th>\n",
              "      <td>Female</td>\n",
              "      <td>21.0</td>\n",
              "      <td>Student</td>\n",
              "      <td>1</td>\n",
              "      <td>3</td>\n",
              "      <td>To get answers to specific questions, To gener...</td>\n",
              "      <td>4</td>\n",
              "      <td>3</td>\n",
              "      <td>0</td>\n",
              "      <td>3</td>\n",
              "      <td>1</td>\n",
              "      <td>0</td>\n",
              "      <td>0</td>\n",
              "      <td>4</td>\n",
              "      <td>1</td>\n",
              "      <td>4</td>\n",
              "      <td>3</td>\n",
              "    </tr>\n",
              "    <tr>\n",
              "      <th>164</th>\n",
              "      <td>Female</td>\n",
              "      <td>21.0</td>\n",
              "      <td>Student</td>\n",
              "      <td>1</td>\n",
              "      <td>3</td>\n",
              "      <td>To get answers to specific questions, To compl...</td>\n",
              "      <td>4</td>\n",
              "      <td>4</td>\n",
              "      <td>0</td>\n",
              "      <td>3</td>\n",
              "      <td>1</td>\n",
              "      <td>0</td>\n",
              "      <td>0</td>\n",
              "      <td>4</td>\n",
              "      <td>2</td>\n",
              "      <td>3</td>\n",
              "      <td>1</td>\n",
              "    </tr>\n",
              "    <tr>\n",
              "      <th>165</th>\n",
              "      <td>Male</td>\n",
              "      <td>19.0</td>\n",
              "      <td>Student</td>\n",
              "      <td>1</td>\n",
              "      <td>2</td>\n",
              "      <td>To get answers to specific questions, To compl...</td>\n",
              "      <td>3</td>\n",
              "      <td>3</td>\n",
              "      <td>0</td>\n",
              "      <td>2</td>\n",
              "      <td>0</td>\n",
              "      <td>1</td>\n",
              "      <td>1</td>\n",
              "      <td>4</td>\n",
              "      <td>1</td>\n",
              "      <td>3</td>\n",
              "      <td>3</td>\n",
              "    </tr>\n",
              "    <tr>\n",
              "      <th>166</th>\n",
              "      <td>Female</td>\n",
              "      <td>20.0</td>\n",
              "      <td>Student</td>\n",
              "      <td>1</td>\n",
              "      <td>4</td>\n",
              "      <td>To get answers to specific questions, To write...</td>\n",
              "      <td>4</td>\n",
              "      <td>3</td>\n",
              "      <td>1</td>\n",
              "      <td>3</td>\n",
              "      <td>3</td>\n",
              "      <td>1</td>\n",
              "      <td>0</td>\n",
              "      <td>4</td>\n",
              "      <td>2</td>\n",
              "      <td>4</td>\n",
              "      <td>3</td>\n",
              "    </tr>\n",
              "  </tbody>\n",
              "</table>\n",
              "<p>135 rows × 17 columns</p>\n",
              "</div>\n",
              "      <button class=\"colab-df-convert\" onclick=\"convertToInteractive('df-dfc8cc2e-3974-488a-8ef9-a80f79b2ac73')\"\n",
              "              title=\"Convert this dataframe to an interactive table.\"\n",
              "              style=\"display:none;\">\n",
              "        \n",
              "  <svg xmlns=\"http://www.w3.org/2000/svg\" height=\"24px\"viewBox=\"0 0 24 24\"\n",
              "       width=\"24px\">\n",
              "    <path d=\"M0 0h24v24H0V0z\" fill=\"none\"/>\n",
              "    <path d=\"M18.56 5.44l.94 2.06.94-2.06 2.06-.94-2.06-.94-.94-2.06-.94 2.06-2.06.94zm-11 1L8.5 8.5l.94-2.06 2.06-.94-2.06-.94L8.5 2.5l-.94 2.06-2.06.94zm10 10l.94 2.06.94-2.06 2.06-.94-2.06-.94-.94-2.06-.94 2.06-2.06.94z\"/><path d=\"M17.41 7.96l-1.37-1.37c-.4-.4-.92-.59-1.43-.59-.52 0-1.04.2-1.43.59L10.3 9.45l-7.72 7.72c-.78.78-.78 2.05 0 2.83L4 21.41c.39.39.9.59 1.41.59.51 0 1.02-.2 1.41-.59l7.78-7.78 2.81-2.81c.8-.78.8-2.07 0-2.86zM5.41 20L4 18.59l7.72-7.72 1.47 1.35L5.41 20z\"/>\n",
              "  </svg>\n",
              "      </button>\n",
              "      \n",
              "  <style>\n",
              "    .colab-df-container {\n",
              "      display:flex;\n",
              "      flex-wrap:wrap;\n",
              "      gap: 12px;\n",
              "    }\n",
              "\n",
              "    .colab-df-convert {\n",
              "      background-color: #E8F0FE;\n",
              "      border: none;\n",
              "      border-radius: 50%;\n",
              "      cursor: pointer;\n",
              "      display: none;\n",
              "      fill: #1967D2;\n",
              "      height: 32px;\n",
              "      padding: 0 0 0 0;\n",
              "      width: 32px;\n",
              "    }\n",
              "\n",
              "    .colab-df-convert:hover {\n",
              "      background-color: #E2EBFA;\n",
              "      box-shadow: 0px 1px 2px rgba(60, 64, 67, 0.3), 0px 1px 3px 1px rgba(60, 64, 67, 0.15);\n",
              "      fill: #174EA6;\n",
              "    }\n",
              "\n",
              "    [theme=dark] .colab-df-convert {\n",
              "      background-color: #3B4455;\n",
              "      fill: #D2E3FC;\n",
              "    }\n",
              "\n",
              "    [theme=dark] .colab-df-convert:hover {\n",
              "      background-color: #434B5C;\n",
              "      box-shadow: 0px 1px 3px 1px rgba(0, 0, 0, 0.15);\n",
              "      filter: drop-shadow(0px 1px 2px rgba(0, 0, 0, 0.3));\n",
              "      fill: #FFFFFF;\n",
              "    }\n",
              "  </style>\n",
              "\n",
              "      <script>\n",
              "        const buttonEl =\n",
              "          document.querySelector('#df-dfc8cc2e-3974-488a-8ef9-a80f79b2ac73 button.colab-df-convert');\n",
              "        buttonEl.style.display =\n",
              "          google.colab.kernel.accessAllowed ? 'block' : 'none';\n",
              "\n",
              "        async function convertToInteractive(key) {\n",
              "          const element = document.querySelector('#df-dfc8cc2e-3974-488a-8ef9-a80f79b2ac73');\n",
              "          const dataTable =\n",
              "            await google.colab.kernel.invokeFunction('convertToInteractive',\n",
              "                                                     [key], {});\n",
              "          if (!dataTable) return;\n",
              "\n",
              "          const docLinkHtml = 'Like what you see? Visit the ' +\n",
              "            '<a target=\"_blank\" href=https://colab.research.google.com/notebooks/data_table.ipynb>data table notebook</a>'\n",
              "            + ' to learn more about interactive tables.';\n",
              "          element.innerHTML = '';\n",
              "          dataTable['output_type'] = 'display_data';\n",
              "          await google.colab.output.renderOutput(dataTable, element);\n",
              "          const docLink = document.createElement('div');\n",
              "          docLink.innerHTML = docLinkHtml;\n",
              "          element.appendChild(docLink);\n",
              "        }\n",
              "      </script>\n",
              "    </div>\n",
              "  </div>\n",
              "  "
            ]
          },
          "metadata": {},
          "execution_count": 25
        }
      ]
    },
    {
      "cell_type": "markdown",
      "source": [
        "*Replacing qualitative nulls with mode*"
      ],
      "metadata": {
        "id": "1IgpMeIzeGAA"
      }
    },
    {
      "cell_type": "code",
      "source": [
        "mode=df2['Q3'].mode()[0]\n",
        "df2['Q3'].fillna(value=mode, inplace=True)"
      ],
      "metadata": {
        "id": "V6g5CNFvw730"
      },
      "execution_count": null,
      "outputs": []
    },
    {
      "cell_type": "markdown",
      "source": [
        "*One-Hot Encoding *"
      ],
      "metadata": {
        "id": "KgAVnNd9eQaj"
      }
    },
    {
      "cell_type": "code",
      "source": [
        "df2['Answer_Q'] = df2['Q3'].str.contains('answers', case=False).astype(int)\n",
        "df2['Ideas'] = df2['Q3'].str.contains('ideas', case=False).astype(int)\n",
        "df2['Learn'] = df2['Q3'].str.contains('learn', case=False).astype(int)\n",
        "df2['Conv'] = df2['Q3'].str.contains('conversation', case=False).astype(int)\n",
        "df2['Asign_HW'] = df2['Q3'].str.contains('complete', case=False).astype(int)\n",
        "df2['Code'] = df2['Q3'].str.contains('code', case=False).astype(int)"
      ],
      "metadata": {
        "id": "f8fndTypwaQ3"
      },
      "execution_count": null,
      "outputs": []
    },
    {
      "cell_type": "code",
      "source": [
        "df2.info()\n",
        "del df2['Q3']"
      ],
      "metadata": {
        "colab": {
          "base_uri": "https://localhost:8080/"
        },
        "id": "tLdiHP3roEjK",
        "outputId": "1d6c219e-d79c-4afe-cd8e-6eb734ce0f9e"
      },
      "execution_count": null,
      "outputs": [
        {
          "output_type": "stream",
          "name": "stdout",
          "text": [
            "<class 'pandas.core.frame.DataFrame'>\n",
            "Int64Index: 135 entries, 0 to 166\n",
            "Data columns (total 23 columns):\n",
            " #   Column    Non-Null Count  Dtype  \n",
            "---  ------    --------------  -----  \n",
            " 0   Gender    135 non-null    object \n",
            " 1   Age       135 non-null    float64\n",
            " 2   Position  135 non-null    object \n",
            " 3   Q1        135 non-null    int64  \n",
            " 4   Q2        135 non-null    int64  \n",
            " 5   Q3        135 non-null    object \n",
            " 6   Q4        135 non-null    int64  \n",
            " 7   Q5        135 non-null    int64  \n",
            " 8   Q6        135 non-null    int64  \n",
            " 9   Q7        135 non-null    int64  \n",
            " 10  Q8        135 non-null    int64  \n",
            " 11  Q9        135 non-null    int64  \n",
            " 12  Q10       135 non-null    int64  \n",
            " 13  Q11       135 non-null    int64  \n",
            " 14  Q12       135 non-null    int64  \n",
            " 15  Q13       135 non-null    int64  \n",
            " 16  Q14       135 non-null    int64  \n",
            " 17  Answer_Q  135 non-null    int64  \n",
            " 18  Ideas     135 non-null    int64  \n",
            " 19  Learn     135 non-null    int64  \n",
            " 20  Conv      135 non-null    int64  \n",
            " 21  Asign_HW  135 non-null    int64  \n",
            " 22  Code      135 non-null    int64  \n",
            "dtypes: float64(1), int64(19), object(3)\n",
            "memory usage: 25.3+ KB\n"
          ]
        }
      ]
    },
    {
      "cell_type": "code",
      "source": [
        "df2=pd.get_dummies(df2,columns=['Gender','Position'])\n",
        "df2.info()"
      ],
      "metadata": {
        "colab": {
          "base_uri": "https://localhost:8080/"
        },
        "id": "w34qJnDYoL5Q",
        "outputId": "2525cf56-59aa-4db6-9bd0-452542c7a886"
      },
      "execution_count": null,
      "outputs": [
        {
          "output_type": "stream",
          "name": "stdout",
          "text": [
            "<class 'pandas.core.frame.DataFrame'>\n",
            "Int64Index: 135 entries, 0 to 166\n",
            "Data columns (total 25 columns):\n",
            " #   Column               Non-Null Count  Dtype  \n",
            "---  ------               --------------  -----  \n",
            " 0   Age                  135 non-null    float64\n",
            " 1   Q1                   135 non-null    int64  \n",
            " 2   Q2                   135 non-null    int64  \n",
            " 3   Q4                   135 non-null    int64  \n",
            " 4   Q5                   135 non-null    int64  \n",
            " 5   Q6                   135 non-null    int64  \n",
            " 6   Q7                   135 non-null    int64  \n",
            " 7   Q8                   135 non-null    int64  \n",
            " 8   Q9                   135 non-null    int64  \n",
            " 9   Q10                  135 non-null    int64  \n",
            " 10  Q11                  135 non-null    int64  \n",
            " 11  Q12                  135 non-null    int64  \n",
            " 12  Q13                  135 non-null    int64  \n",
            " 13  Q14                  135 non-null    int64  \n",
            " 14  Answer_Q             135 non-null    int64  \n",
            " 15  Ideas                135 non-null    int64  \n",
            " 16  Learn                135 non-null    int64  \n",
            " 17  Conv                 135 non-null    int64  \n",
            " 18  Asign_HW             135 non-null    int64  \n",
            " 19  Code                 135 non-null    int64  \n",
            " 20  Gender_Female        135 non-null    uint8  \n",
            " 21  Gender_Male          135 non-null    uint8  \n",
            " 22  Position_Employed    135 non-null    uint8  \n",
            " 23  Position_Student     135 non-null    uint8  \n",
            " 24  Position_Unemployed  135 non-null    uint8  \n",
            "dtypes: float64(1), int64(19), uint8(5)\n",
            "memory usage: 22.8 KB\n"
          ]
        }
      ]
    },
    {
      "cell_type": "markdown",
      "source": [
        "**Splitting into training and testing**"
      ],
      "metadata": {
        "id": "f82tlsSUeg2G"
      }
    },
    {
      "cell_type": "code",
      "source": [
        "X=df2.loc[:, df2.columns != 'Q6']\n",
        "Y=df2['Q6']"
      ],
      "metadata": {
        "id": "fbDOlbGzx78B"
      },
      "execution_count": null,
      "outputs": []
    },
    {
      "cell_type": "code",
      "source": [
        "X_train,X_test,Y_train,Y_test = train_test_split(X,Y,test_size=0.2,random_state=2)"
      ],
      "metadata": {
        "id": "zpUVku6pyNRq"
      },
      "execution_count": null,
      "outputs": []
    },
    {
      "cell_type": "markdown",
      "source": [
        "**Scaling continous variables**"
      ],
      "metadata": {
        "id": "OGYTjs8QepCU"
      }
    },
    {
      "cell_type": "code",
      "source": [
        "df2[[\"Age\"]]=scale(df2[[\"Age\"]],with_mean=True,with_std=True)\n",
        "df2.head(2)"
      ],
      "metadata": {
        "colab": {
          "base_uri": "https://localhost:8080/",
          "height": 141
        },
        "id": "LjtB3mdtzJDH",
        "outputId": "69a5f2b5-791e-40dd-e92e-c2dd75ee5417"
      },
      "execution_count": null,
      "outputs": [
        {
          "output_type": "execute_result",
          "data": {
            "text/plain": [
              "        Age  Q1  Q2  Q4  Q5  Q6  Q7  Q8  Q9  Q10  ...  Ideas  Learn  Conv  \\\n",
              "0 -1.346891   1   1   3   2   0   4   0   0    1  ...      1      0     1   \n",
              "1 -1.811653   1   4   3   1   1   3   0   0    0  ...      1      1     1   \n",
              "\n",
              "   Asign_HW  Code  Gender_Female  Gender_Male  Position_Employed  \\\n",
              "0         1     0              0            1                  0   \n",
              "1         0     0              0            1                  0   \n",
              "\n",
              "   Position_Student  Position_Unemployed  \n",
              "0                 1                    0  \n",
              "1                 1                    0  \n",
              "\n",
              "[2 rows x 25 columns]"
            ],
            "text/html": [
              "\n",
              "  <div id=\"df-1514afc0-4afa-4e5d-b26d-10ecc6f612ee\">\n",
              "    <div class=\"colab-df-container\">\n",
              "      <div>\n",
              "<style scoped>\n",
              "    .dataframe tbody tr th:only-of-type {\n",
              "        vertical-align: middle;\n",
              "    }\n",
              "\n",
              "    .dataframe tbody tr th {\n",
              "        vertical-align: top;\n",
              "    }\n",
              "\n",
              "    .dataframe thead th {\n",
              "        text-align: right;\n",
              "    }\n",
              "</style>\n",
              "<table border=\"1\" class=\"dataframe\">\n",
              "  <thead>\n",
              "    <tr style=\"text-align: right;\">\n",
              "      <th></th>\n",
              "      <th>Age</th>\n",
              "      <th>Q1</th>\n",
              "      <th>Q2</th>\n",
              "      <th>Q4</th>\n",
              "      <th>Q5</th>\n",
              "      <th>Q6</th>\n",
              "      <th>Q7</th>\n",
              "      <th>Q8</th>\n",
              "      <th>Q9</th>\n",
              "      <th>Q10</th>\n",
              "      <th>...</th>\n",
              "      <th>Ideas</th>\n",
              "      <th>Learn</th>\n",
              "      <th>Conv</th>\n",
              "      <th>Asign_HW</th>\n",
              "      <th>Code</th>\n",
              "      <th>Gender_Female</th>\n",
              "      <th>Gender_Male</th>\n",
              "      <th>Position_Employed</th>\n",
              "      <th>Position_Student</th>\n",
              "      <th>Position_Unemployed</th>\n",
              "    </tr>\n",
              "  </thead>\n",
              "  <tbody>\n",
              "    <tr>\n",
              "      <th>0</th>\n",
              "      <td>-1.346891</td>\n",
              "      <td>1</td>\n",
              "      <td>1</td>\n",
              "      <td>3</td>\n",
              "      <td>2</td>\n",
              "      <td>0</td>\n",
              "      <td>4</td>\n",
              "      <td>0</td>\n",
              "      <td>0</td>\n",
              "      <td>1</td>\n",
              "      <td>...</td>\n",
              "      <td>1</td>\n",
              "      <td>0</td>\n",
              "      <td>1</td>\n",
              "      <td>1</td>\n",
              "      <td>0</td>\n",
              "      <td>0</td>\n",
              "      <td>1</td>\n",
              "      <td>0</td>\n",
              "      <td>1</td>\n",
              "      <td>0</td>\n",
              "    </tr>\n",
              "    <tr>\n",
              "      <th>1</th>\n",
              "      <td>-1.811653</td>\n",
              "      <td>1</td>\n",
              "      <td>4</td>\n",
              "      <td>3</td>\n",
              "      <td>1</td>\n",
              "      <td>1</td>\n",
              "      <td>3</td>\n",
              "      <td>0</td>\n",
              "      <td>0</td>\n",
              "      <td>0</td>\n",
              "      <td>...</td>\n",
              "      <td>1</td>\n",
              "      <td>1</td>\n",
              "      <td>1</td>\n",
              "      <td>0</td>\n",
              "      <td>0</td>\n",
              "      <td>0</td>\n",
              "      <td>1</td>\n",
              "      <td>0</td>\n",
              "      <td>1</td>\n",
              "      <td>0</td>\n",
              "    </tr>\n",
              "  </tbody>\n",
              "</table>\n",
              "<p>2 rows × 25 columns</p>\n",
              "</div>\n",
              "      <button class=\"colab-df-convert\" onclick=\"convertToInteractive('df-1514afc0-4afa-4e5d-b26d-10ecc6f612ee')\"\n",
              "              title=\"Convert this dataframe to an interactive table.\"\n",
              "              style=\"display:none;\">\n",
              "        \n",
              "  <svg xmlns=\"http://www.w3.org/2000/svg\" height=\"24px\"viewBox=\"0 0 24 24\"\n",
              "       width=\"24px\">\n",
              "    <path d=\"M0 0h24v24H0V0z\" fill=\"none\"/>\n",
              "    <path d=\"M18.56 5.44l.94 2.06.94-2.06 2.06-.94-2.06-.94-.94-2.06-.94 2.06-2.06.94zm-11 1L8.5 8.5l.94-2.06 2.06-.94-2.06-.94L8.5 2.5l-.94 2.06-2.06.94zm10 10l.94 2.06.94-2.06 2.06-.94-2.06-.94-.94-2.06-.94 2.06-2.06.94z\"/><path d=\"M17.41 7.96l-1.37-1.37c-.4-.4-.92-.59-1.43-.59-.52 0-1.04.2-1.43.59L10.3 9.45l-7.72 7.72c-.78.78-.78 2.05 0 2.83L4 21.41c.39.39.9.59 1.41.59.51 0 1.02-.2 1.41-.59l7.78-7.78 2.81-2.81c.8-.78.8-2.07 0-2.86zM5.41 20L4 18.59l7.72-7.72 1.47 1.35L5.41 20z\"/>\n",
              "  </svg>\n",
              "      </button>\n",
              "      \n",
              "  <style>\n",
              "    .colab-df-container {\n",
              "      display:flex;\n",
              "      flex-wrap:wrap;\n",
              "      gap: 12px;\n",
              "    }\n",
              "\n",
              "    .colab-df-convert {\n",
              "      background-color: #E8F0FE;\n",
              "      border: none;\n",
              "      border-radius: 50%;\n",
              "      cursor: pointer;\n",
              "      display: none;\n",
              "      fill: #1967D2;\n",
              "      height: 32px;\n",
              "      padding: 0 0 0 0;\n",
              "      width: 32px;\n",
              "    }\n",
              "\n",
              "    .colab-df-convert:hover {\n",
              "      background-color: #E2EBFA;\n",
              "      box-shadow: 0px 1px 2px rgba(60, 64, 67, 0.3), 0px 1px 3px 1px rgba(60, 64, 67, 0.15);\n",
              "      fill: #174EA6;\n",
              "    }\n",
              "\n",
              "    [theme=dark] .colab-df-convert {\n",
              "      background-color: #3B4455;\n",
              "      fill: #D2E3FC;\n",
              "    }\n",
              "\n",
              "    [theme=dark] .colab-df-convert:hover {\n",
              "      background-color: #434B5C;\n",
              "      box-shadow: 0px 1px 3px 1px rgba(0, 0, 0, 0.15);\n",
              "      filter: drop-shadow(0px 1px 2px rgba(0, 0, 0, 0.3));\n",
              "      fill: #FFFFFF;\n",
              "    }\n",
              "  </style>\n",
              "\n",
              "      <script>\n",
              "        const buttonEl =\n",
              "          document.querySelector('#df-1514afc0-4afa-4e5d-b26d-10ecc6f612ee button.colab-df-convert');\n",
              "        buttonEl.style.display =\n",
              "          google.colab.kernel.accessAllowed ? 'block' : 'none';\n",
              "\n",
              "        async function convertToInteractive(key) {\n",
              "          const element = document.querySelector('#df-1514afc0-4afa-4e5d-b26d-10ecc6f612ee');\n",
              "          const dataTable =\n",
              "            await google.colab.kernel.invokeFunction('convertToInteractive',\n",
              "                                                     [key], {});\n",
              "          if (!dataTable) return;\n",
              "\n",
              "          const docLinkHtml = 'Like what you see? Visit the ' +\n",
              "            '<a target=\"_blank\" href=https://colab.research.google.com/notebooks/data_table.ipynb>data table notebook</a>'\n",
              "            + ' to learn more about interactive tables.';\n",
              "          element.innerHTML = '';\n",
              "          dataTable['output_type'] = 'display_data';\n",
              "          await google.colab.output.renderOutput(dataTable, element);\n",
              "          const docLink = document.createElement('div');\n",
              "          docLink.innerHTML = docLinkHtml;\n",
              "          element.appendChild(docLink);\n",
              "        }\n",
              "      </script>\n",
              "    </div>\n",
              "  </div>\n",
              "  "
            ]
          },
          "metadata": {},
          "execution_count": 32
        }
      ]
    },
    {
      "cell_type": "markdown",
      "source": [
        "**K-fold cross validation on the initial model**"
      ],
      "metadata": {
        "id": "2JhUzbVievEU"
      }
    },
    {
      "cell_type": "code",
      "source": [
        "logreg = LogisticRegression(penalty='l2', solver='lbfgs', max_iter=1000)\n",
        "kfold5 = KFold(n_splits=10,random_state=1,shuffle=True)\n",
        "test5 = cross_val_score(logreg,X,Y,cv=kfold5,scoring='accuracy',n_jobs=-1)\n",
        "print(np.mean(test5))  #basic model"
      ],
      "metadata": {
        "id": "qjsTJ6AR4cGF"
      },
      "execution_count": null,
      "outputs": []
    },
    {
      "cell_type": "code",
      "source": [
        "df2.columns"
      ],
      "metadata": {
        "id": "TZrtVquy5p-F",
        "colab": {
          "base_uri": "https://localhost:8080/"
        },
        "outputId": "bb06a5d8-9242-4cae-d87f-b31f3dcd010d"
      },
      "execution_count": null,
      "outputs": [
        {
          "output_type": "execute_result",
          "data": {
            "text/plain": [
              "Index(['Age', 'Q1', 'Q2', 'Q4', 'Q5', 'Q6', 'Q7', 'Q8', 'Q9', 'Q10', 'Q11',\n",
              "       'Q12', 'Q13', 'Q14', 'Answer_Q', 'Ideas', 'Learn', 'Conv', 'Asign_HW',\n",
              "       'Code', 'Gender_Female', 'Gender_Male', 'Position_Employed',\n",
              "       'Position_Student', 'Position_Unemployed'],\n",
              "      dtype='object')"
            ]
          },
          "metadata": {},
          "execution_count": 35
        }
      ]
    },
    {
      "cell_type": "markdown",
      "source": [
        "**Model with all the variables**\n"
      ],
      "metadata": {
        "id": "YgBPnT37fBMv"
      }
    },
    {
      "cell_type": "markdown",
      "source": [
        "*Dependent variable: Q6. Will ChatGPT replace Google as their primary source of information (Yes/No) (1/0)*"
      ],
      "metadata": {
        "id": "9NxE4Crefb8I"
      }
    },
    {
      "cell_type": "code",
      "source": [
        "lm=smf.logit('Q6~Age+Q1+Q2+Q4+Q5+Q7+Q8+Q9+Q10+Q11+Q12+Q13+Q14+Answer_Q+Ideas+Learn+Conv+Asign_HW+Code+Gender_Female+Gender_Male+Position_Employed+Position_Student+Position_Unemployed',data=df2).fit()\n",
        "lm.summary()"
      ],
      "metadata": {
        "id": "PljBoMaG5H2j",
        "colab": {
          "base_uri": "https://localhost:8080/",
          "height": 902
        },
        "outputId": "7b356972-818c-4a07-a7e7-85faca0878df"
      },
      "execution_count": null,
      "outputs": [
        {
          "output_type": "stream",
          "name": "stdout",
          "text": [
            "Warning: Maximum number of iterations has been exceeded.\n",
            "         Current function value: 0.174437\n",
            "         Iterations: 35\n"
          ]
        },
        {
          "output_type": "stream",
          "name": "stderr",
          "text": [
            "/usr/local/lib/python3.9/dist-packages/statsmodels/base/model.py:604: ConvergenceWarning: Maximum Likelihood optimization failed to converge. Check mle_retvals\n",
            "  warnings.warn(\"Maximum Likelihood optimization failed to \"\n"
          ]
        },
        {
          "output_type": "execute_result",
          "data": {
            "text/plain": [
              "<class 'statsmodels.iolib.summary.Summary'>\n",
              "\"\"\"\n",
              "                           Logit Regression Results                           \n",
              "==============================================================================\n",
              "Dep. Variable:                     Q6   No. Observations:                  135\n",
              "Model:                          Logit   Df Residuals:                      113\n",
              "Method:                           MLE   Df Model:                           21\n",
              "Date:                Wed, 12 Apr 2023   Pseudo R-squ.:                  0.6514\n",
              "Time:                        02:32:38   Log-Likelihood:                -23.549\n",
              "converged:                      False   LL-Null:                       -67.554\n",
              "Covariance Type:            nonrobust   LLR p-value:                 3.549e-10\n",
              "=======================================================================================\n",
              "                          coef    std err          z      P>|z|      [0.025      0.975]\n",
              "---------------------------------------------------------------------------------------\n",
              "Intercept              -7.8680   1.34e+08  -5.87e-08      1.000   -2.63e+08    2.63e+08\n",
              "Age                     0.2927      0.787      0.372      0.710      -1.250       1.836\n",
              "Q1                     -7.8680   1.62e+08  -4.86e-08      1.000   -3.18e+08    3.18e+08\n",
              "Q2                      2.0671      0.745      2.774      0.006       0.607       3.527\n",
              "Q4                      0.4195      0.722      0.581      0.561      -0.995       1.834\n",
              "Q5                     -2.0309      0.797     -2.548      0.011      -3.593      -0.469\n",
              "Q7                      2.8575      0.976      2.927      0.003       0.944       4.771\n",
              "Q8                      0.4086      0.442      0.925      0.355      -0.458       1.275\n",
              "Q9                     -0.8649      0.755     -1.146      0.252      -2.344       0.614\n",
              "Q10                     1.1961      0.946      1.264      0.206      -0.658       3.050\n",
              "Q11                    -0.9475      0.882     -1.074      0.283      -2.677       0.782\n",
              "Q12                    -0.2581      0.670     -0.385      0.700      -1.571       1.055\n",
              "Q13                     0.9254      1.083      0.855      0.393      -1.197       3.048\n",
              "Q14                     1.4557      0.588      2.475      0.013       0.303       2.608\n",
              "Answer_Q               -1.5608      1.743     -0.896      0.370      -4.976       1.855\n",
              "Ideas                   2.2403      1.305      1.716      0.086      -0.318       4.799\n",
              "Learn                   0.4825      1.109      0.435      0.663      -1.691       2.656\n",
              "Conv                   -0.0151      1.103     -0.014      0.989      -2.177       2.147\n",
              "Asign_HW               -1.9199      1.246     -1.541      0.123      -4.362       0.522\n",
              "Code                    0.4916      1.046      0.470      0.638      -1.559       2.542\n",
              "Gender_Female          -3.6326      1.347     -2.697      0.007      -6.272      -0.993\n",
              "Gender_Male            -4.2354   5.04e+06   -8.4e-07      1.000   -9.88e+06    9.88e+06\n",
              "Position_Employed      -2.6590    9.9e+07  -2.69e-08      1.000   -1.94e+08    1.94e+08\n",
              "Position_Student        3.9415    9.9e+07   3.98e-08      1.000   -1.94e+08    1.94e+08\n",
              "Position_Unemployed    -9.1504    9.9e+07  -9.24e-08      1.000   -1.94e+08    1.94e+08\n",
              "=======================================================================================\n",
              "\n",
              "Possibly complete quasi-separation: A fraction 0.30 of observations can be\n",
              "perfectly predicted. This might indicate that there is complete\n",
              "quasi-separation. In this case some parameters will not be identified.\n",
              "\"\"\""
            ],
            "text/html": [
              "<table class=\"simpletable\">\n",
              "<caption>Logit Regression Results</caption>\n",
              "<tr>\n",
              "  <th>Dep. Variable:</th>          <td>Q6</td>        <th>  No. Observations:  </th>  <td>   135</td>  \n",
              "</tr>\n",
              "<tr>\n",
              "  <th>Model:</th>                 <td>Logit</td>      <th>  Df Residuals:      </th>  <td>   113</td>  \n",
              "</tr>\n",
              "<tr>\n",
              "  <th>Method:</th>                 <td>MLE</td>       <th>  Df Model:          </th>  <td>    21</td>  \n",
              "</tr>\n",
              "<tr>\n",
              "  <th>Date:</th>            <td>Wed, 12 Apr 2023</td> <th>  Pseudo R-squ.:     </th>  <td>0.6514</td>  \n",
              "</tr>\n",
              "<tr>\n",
              "  <th>Time:</th>                <td>02:32:38</td>     <th>  Log-Likelihood:    </th> <td> -23.549</td> \n",
              "</tr>\n",
              "<tr>\n",
              "  <th>converged:</th>             <td>False</td>      <th>  LL-Null:           </th> <td> -67.554</td> \n",
              "</tr>\n",
              "<tr>\n",
              "  <th>Covariance Type:</th>     <td>nonrobust</td>    <th>  LLR p-value:       </th> <td>3.549e-10</td>\n",
              "</tr>\n",
              "</table>\n",
              "<table class=\"simpletable\">\n",
              "<tr>\n",
              "           <td></td>              <th>coef</th>     <th>std err</th>      <th>z</th>      <th>P>|z|</th>  <th>[0.025</th>    <th>0.975]</th>  \n",
              "</tr>\n",
              "<tr>\n",
              "  <th>Intercept</th>           <td>   -7.8680</td> <td> 1.34e+08</td> <td>-5.87e-08</td> <td> 1.000</td> <td>-2.63e+08</td> <td> 2.63e+08</td>\n",
              "</tr>\n",
              "<tr>\n",
              "  <th>Age</th>                 <td>    0.2927</td> <td>    0.787</td> <td>    0.372</td> <td> 0.710</td> <td>   -1.250</td> <td>    1.836</td>\n",
              "</tr>\n",
              "<tr>\n",
              "  <th>Q1</th>                  <td>   -7.8680</td> <td> 1.62e+08</td> <td>-4.86e-08</td> <td> 1.000</td> <td>-3.18e+08</td> <td> 3.18e+08</td>\n",
              "</tr>\n",
              "<tr>\n",
              "  <th>Q2</th>                  <td>    2.0671</td> <td>    0.745</td> <td>    2.774</td> <td> 0.006</td> <td>    0.607</td> <td>    3.527</td>\n",
              "</tr>\n",
              "<tr>\n",
              "  <th>Q4</th>                  <td>    0.4195</td> <td>    0.722</td> <td>    0.581</td> <td> 0.561</td> <td>   -0.995</td> <td>    1.834</td>\n",
              "</tr>\n",
              "<tr>\n",
              "  <th>Q5</th>                  <td>   -2.0309</td> <td>    0.797</td> <td>   -2.548</td> <td> 0.011</td> <td>   -3.593</td> <td>   -0.469</td>\n",
              "</tr>\n",
              "<tr>\n",
              "  <th>Q7</th>                  <td>    2.8575</td> <td>    0.976</td> <td>    2.927</td> <td> 0.003</td> <td>    0.944</td> <td>    4.771</td>\n",
              "</tr>\n",
              "<tr>\n",
              "  <th>Q8</th>                  <td>    0.4086</td> <td>    0.442</td> <td>    0.925</td> <td> 0.355</td> <td>   -0.458</td> <td>    1.275</td>\n",
              "</tr>\n",
              "<tr>\n",
              "  <th>Q9</th>                  <td>   -0.8649</td> <td>    0.755</td> <td>   -1.146</td> <td> 0.252</td> <td>   -2.344</td> <td>    0.614</td>\n",
              "</tr>\n",
              "<tr>\n",
              "  <th>Q10</th>                 <td>    1.1961</td> <td>    0.946</td> <td>    1.264</td> <td> 0.206</td> <td>   -0.658</td> <td>    3.050</td>\n",
              "</tr>\n",
              "<tr>\n",
              "  <th>Q11</th>                 <td>   -0.9475</td> <td>    0.882</td> <td>   -1.074</td> <td> 0.283</td> <td>   -2.677</td> <td>    0.782</td>\n",
              "</tr>\n",
              "<tr>\n",
              "  <th>Q12</th>                 <td>   -0.2581</td> <td>    0.670</td> <td>   -0.385</td> <td> 0.700</td> <td>   -1.571</td> <td>    1.055</td>\n",
              "</tr>\n",
              "<tr>\n",
              "  <th>Q13</th>                 <td>    0.9254</td> <td>    1.083</td> <td>    0.855</td> <td> 0.393</td> <td>   -1.197</td> <td>    3.048</td>\n",
              "</tr>\n",
              "<tr>\n",
              "  <th>Q14</th>                 <td>    1.4557</td> <td>    0.588</td> <td>    2.475</td> <td> 0.013</td> <td>    0.303</td> <td>    2.608</td>\n",
              "</tr>\n",
              "<tr>\n",
              "  <th>Answer_Q</th>            <td>   -1.5608</td> <td>    1.743</td> <td>   -0.896</td> <td> 0.370</td> <td>   -4.976</td> <td>    1.855</td>\n",
              "</tr>\n",
              "<tr>\n",
              "  <th>Ideas</th>               <td>    2.2403</td> <td>    1.305</td> <td>    1.716</td> <td> 0.086</td> <td>   -0.318</td> <td>    4.799</td>\n",
              "</tr>\n",
              "<tr>\n",
              "  <th>Learn</th>               <td>    0.4825</td> <td>    1.109</td> <td>    0.435</td> <td> 0.663</td> <td>   -1.691</td> <td>    2.656</td>\n",
              "</tr>\n",
              "<tr>\n",
              "  <th>Conv</th>                <td>   -0.0151</td> <td>    1.103</td> <td>   -0.014</td> <td> 0.989</td> <td>   -2.177</td> <td>    2.147</td>\n",
              "</tr>\n",
              "<tr>\n",
              "  <th>Asign_HW</th>            <td>   -1.9199</td> <td>    1.246</td> <td>   -1.541</td> <td> 0.123</td> <td>   -4.362</td> <td>    0.522</td>\n",
              "</tr>\n",
              "<tr>\n",
              "  <th>Code</th>                <td>    0.4916</td> <td>    1.046</td> <td>    0.470</td> <td> 0.638</td> <td>   -1.559</td> <td>    2.542</td>\n",
              "</tr>\n",
              "<tr>\n",
              "  <th>Gender_Female</th>       <td>   -3.6326</td> <td>    1.347</td> <td>   -2.697</td> <td> 0.007</td> <td>   -6.272</td> <td>   -0.993</td>\n",
              "</tr>\n",
              "<tr>\n",
              "  <th>Gender_Male</th>         <td>   -4.2354</td> <td> 5.04e+06</td> <td> -8.4e-07</td> <td> 1.000</td> <td>-9.88e+06</td> <td> 9.88e+06</td>\n",
              "</tr>\n",
              "<tr>\n",
              "  <th>Position_Employed</th>   <td>   -2.6590</td> <td>  9.9e+07</td> <td>-2.69e-08</td> <td> 1.000</td> <td>-1.94e+08</td> <td> 1.94e+08</td>\n",
              "</tr>\n",
              "<tr>\n",
              "  <th>Position_Student</th>    <td>    3.9415</td> <td>  9.9e+07</td> <td> 3.98e-08</td> <td> 1.000</td> <td>-1.94e+08</td> <td> 1.94e+08</td>\n",
              "</tr>\n",
              "<tr>\n",
              "  <th>Position_Unemployed</th> <td>   -9.1504</td> <td>  9.9e+07</td> <td>-9.24e-08</td> <td> 1.000</td> <td>-1.94e+08</td> <td> 1.94e+08</td>\n",
              "</tr>\n",
              "</table><br/><br/>Possibly complete quasi-separation: A fraction 0.30 of observations can be<br/>perfectly predicted. This might indicate that there is complete<br/>quasi-separation. In this case some parameters will not be identified."
            ]
          },
          "metadata": {},
          "execution_count": 36
        }
      ]
    },
    {
      "cell_type": "markdown",
      "source": [
        "**Best model with all significant p-values**"
      ],
      "metadata": {
        "id": "W6AJQr49ff-r"
      }
    },
    {
      "cell_type": "markdown",
      "source": [
        "Q2. Their frequency of ChatGPT usage"
      ],
      "metadata": {
        "id": "tyK5ux-KfrQw"
      }
    },
    {
      "cell_type": "markdown",
      "source": [
        "Q5. Their frequency of Google usage since ChatGPT"
      ],
      "metadata": {
        "id": "XfcSRti3fy8A"
      }
    },
    {
      "cell_type": "markdown",
      "source": [
        "Q7. Can they find information more easily on ChatGPT as compared to Google"
      ],
      "metadata": {
        "id": "RwPEnmZOf75a"
      }
    },
    {
      "cell_type": "markdown",
      "source": [
        "Q14. How would they feel if ChatGPT replaced Google."
      ],
      "metadata": {
        "id": "9S0OAAyrgDkW"
      }
    },
    {
      "cell_type": "code",
      "source": [
        "lm=smf.logit('Q6~Q2+Q5+Q7+Q14',data=df2).fit()\n",
        "lm.summary()"
      ],
      "metadata": {
        "id": "7JLvYf6p6bK8",
        "colab": {
          "base_uri": "https://localhost:8080/",
          "height": 362
        },
        "outputId": "89c29e23-e1de-49ab-e40e-137df37a20dd"
      },
      "execution_count": null,
      "outputs": [
        {
          "output_type": "stream",
          "name": "stdout",
          "text": [
            "Optimization terminated successfully.\n",
            "         Current function value: 0.241952\n",
            "         Iterations 9\n"
          ]
        },
        {
          "output_type": "execute_result",
          "data": {
            "text/plain": [
              "<class 'statsmodels.iolib.summary.Summary'>\n",
              "\"\"\"\n",
              "                           Logit Regression Results                           \n",
              "==============================================================================\n",
              "Dep. Variable:                     Q6   No. Observations:                  135\n",
              "Model:                          Logit   Df Residuals:                      130\n",
              "Method:                           MLE   Df Model:                            4\n",
              "Date:                Wed, 12 Apr 2023   Pseudo R-squ.:                  0.5165\n",
              "Time:                        02:32:38   Log-Likelihood:                -32.663\n",
              "converged:                       True   LL-Null:                       -67.554\n",
              "Covariance Type:            nonrobust   LLR p-value:                 2.524e-14\n",
              "==============================================================================\n",
              "                 coef    std err          z      P>|z|      [0.025      0.975]\n",
              "------------------------------------------------------------------------------\n",
              "Intercept    -10.6895      2.794     -3.826      0.000     -16.165      -5.214\n",
              "Q2             1.4351      0.416      3.450      0.001       0.620       2.250\n",
              "Q5            -1.1655      0.356     -3.277      0.001      -1.863      -0.469\n",
              "Q7             2.0984      0.597      3.516      0.000       0.929       3.268\n",
              "Q14            0.6955      0.335      2.075      0.038       0.039       1.352\n",
              "==============================================================================\n",
              "\"\"\""
            ],
            "text/html": [
              "<table class=\"simpletable\">\n",
              "<caption>Logit Regression Results</caption>\n",
              "<tr>\n",
              "  <th>Dep. Variable:</th>          <td>Q6</td>        <th>  No. Observations:  </th>  <td>   135</td>  \n",
              "</tr>\n",
              "<tr>\n",
              "  <th>Model:</th>                 <td>Logit</td>      <th>  Df Residuals:      </th>  <td>   130</td>  \n",
              "</tr>\n",
              "<tr>\n",
              "  <th>Method:</th>                 <td>MLE</td>       <th>  Df Model:          </th>  <td>     4</td>  \n",
              "</tr>\n",
              "<tr>\n",
              "  <th>Date:</th>            <td>Wed, 12 Apr 2023</td> <th>  Pseudo R-squ.:     </th>  <td>0.5165</td>  \n",
              "</tr>\n",
              "<tr>\n",
              "  <th>Time:</th>                <td>02:32:38</td>     <th>  Log-Likelihood:    </th> <td> -32.663</td> \n",
              "</tr>\n",
              "<tr>\n",
              "  <th>converged:</th>             <td>True</td>       <th>  LL-Null:           </th> <td> -67.554</td> \n",
              "</tr>\n",
              "<tr>\n",
              "  <th>Covariance Type:</th>     <td>nonrobust</td>    <th>  LLR p-value:       </th> <td>2.524e-14</td>\n",
              "</tr>\n",
              "</table>\n",
              "<table class=\"simpletable\">\n",
              "<tr>\n",
              "      <td></td>         <th>coef</th>     <th>std err</th>      <th>z</th>      <th>P>|z|</th>  <th>[0.025</th>    <th>0.975]</th>  \n",
              "</tr>\n",
              "<tr>\n",
              "  <th>Intercept</th> <td>  -10.6895</td> <td>    2.794</td> <td>   -3.826</td> <td> 0.000</td> <td>  -16.165</td> <td>   -5.214</td>\n",
              "</tr>\n",
              "<tr>\n",
              "  <th>Q2</th>        <td>    1.4351</td> <td>    0.416</td> <td>    3.450</td> <td> 0.001</td> <td>    0.620</td> <td>    2.250</td>\n",
              "</tr>\n",
              "<tr>\n",
              "  <th>Q5</th>        <td>   -1.1655</td> <td>    0.356</td> <td>   -3.277</td> <td> 0.001</td> <td>   -1.863</td> <td>   -0.469</td>\n",
              "</tr>\n",
              "<tr>\n",
              "  <th>Q7</th>        <td>    2.0984</td> <td>    0.597</td> <td>    3.516</td> <td> 0.000</td> <td>    0.929</td> <td>    3.268</td>\n",
              "</tr>\n",
              "<tr>\n",
              "  <th>Q14</th>       <td>    0.6955</td> <td>    0.335</td> <td>    2.075</td> <td> 0.038</td> <td>    0.039</td> <td>    1.352</td>\n",
              "</tr>\n",
              "</table>"
            ]
          },
          "metadata": {},
          "execution_count": 37
        }
      ]
    },
    {
      "cell_type": "code",
      "source": [
        "\n",
        "from scipy import stats\n",
        "from scipy.stats import pearsonr\n",
        "from scipy.stats import ttest_ind\n",
        "from sklearn.metrics import classification_report\n",
        "from sklearn.metrics import confusion_matrix\n",
        "from sklearn.preprocessing import MinMaxScaler\n",
        "from sklearn.model_selection import train_test_split\n",
        "from imblearn.over_sampling import SMOTE\n",
        "\n",
        "from sklearn.linear_model import LogisticRegression\n",
        "from sklearn.neighbors import KNeighborsClassifier\n",
        "from sklearn.svm import SVC\n",
        "from sklearn.naive_bayes import CategoricalNB\n",
        "from sklearn.naive_bayes import GaussianNB\n",
        "from sklearn.tree import DecisionTreeClassifier\n",
        "from sklearn.ensemble import RandomForestClassifier"
      ],
      "metadata": {
        "id": "uRmwozZFM502"
      },
      "execution_count": null,
      "outputs": []
    },
    {
      "cell_type": "markdown",
      "source": [
        "K-fold Accuracy on the best model"
      ],
      "metadata": {
        "id": "YQPdkEM_gMu4"
      }
    },
    {
      "cell_type": "code",
      "source": [
        "X = df2[['Q2', 'Q5', 'Q7', 'Q14']]\n",
        "Y=df2['Q6']\n",
        "X_train,X_test,Y_train,Y_test = train_test_split(X,Y,test_size=0.2,random_state=2)\n",
        "logreg = LogisticRegression(penalty='l2', solver='lbfgs', max_iter=1000)\n",
        "kfold5 = KFold(n_splits=10,random_state=1,shuffle=True)\n",
        "test5 = cross_val_score(logreg,X,Y,cv=kfold5,scoring='accuracy',n_jobs=-1)\n",
        "print(np.mean(-test5))"
      ],
      "metadata": {
        "id": "zXvAYY8Z7Mvc",
        "colab": {
          "base_uri": "https://localhost:8080/"
        },
        "outputId": "9686946b-2778-4c04-8e03-1fc5b2ce2707"
      },
      "execution_count": null,
      "outputs": [
        {
          "output_type": "stream",
          "name": "stdout",
          "text": [
            "-0.8884615384615385\n"
          ]
        }
      ]
    },
    {
      "cell_type": "markdown",
      "source": [
        "**Comparing our Logistic Regression model with Advanced model techniques.**"
      ],
      "metadata": {
        "id": "ik12wb7_gU3l"
      }
    },
    {
      "cell_type": "markdown",
      "source": [
        "**Gaussian NB**"
      ],
      "metadata": {
        "id": "Pfx1SBuggcWx"
      }
    },
    {
      "cell_type": "code",
      "source": [
        "NBclassifier2 = GaussianNB()\n",
        "NBclassifier2.fit(X_train, Y_train)\n",
        "\n",
        "y_pred = NBclassifier2.predict(X_test)\n",
        "\n",
        "print(classification_report(Y_test, y_pred))\n",
        "print(confusion_matrix(Y_test, y_pred))\n",
        "\n",
        "from sklearn.metrics import accuracy_score\n",
        "NBAcc2 = accuracy_score(y_pred,Y_test)\n",
        "print('Gaussian Naive Bayes accuracy: {:.2f}%'.format(NBAcc2*100))"
      ],
      "metadata": {
        "id": "JpIFqdhvN_Ob",
        "colab": {
          "base_uri": "https://localhost:8080/"
        },
        "outputId": "9e4ada49-defa-4c67-99e5-49b9c082d7e0"
      },
      "execution_count": null,
      "outputs": [
        {
          "output_type": "stream",
          "name": "stdout",
          "text": [
            "              precision    recall  f1-score   support\n",
            "\n",
            "           0       0.96      1.00      0.98        22\n",
            "           1       1.00      0.80      0.89         5\n",
            "\n",
            "    accuracy                           0.96        27\n",
            "   macro avg       0.98      0.90      0.93        27\n",
            "weighted avg       0.96      0.96      0.96        27\n",
            "\n",
            "[[22  0]\n",
            " [ 1  4]]\n",
            "Gaussian Naive Bayes accuracy: 96.30%\n"
          ]
        }
      ]
    },
    {
      "cell_type": "markdown",
      "source": [
        "**Decision Tree**"
      ],
      "metadata": {
        "id": "U5IWFluzgfbG"
      }
    },
    {
      "cell_type": "code",
      "source": [
        "scoreListDT = []\n",
        "for i in range(2,21):\n",
        "    DTclassifier = DecisionTreeClassifier(max_leaf_nodes=i)\n",
        "    DTclassifier.fit(X_train, Y_train)\n",
        "    scoreListDT.append(DTclassifier.score(X_test, Y_test))\n",
        "\n",
        "plt.plot(range(2,21), scoreListDT)\n",
        "plt.xticks(np.arange(2,21,1))\n",
        "plt.xlabel(\"Leaf\")\n",
        "plt.ylabel(\"Score\")\n",
        "plt.show()\n",
        "DTAcc = max(scoreListDT)\n",
        "Y_pred = DTclassifier.predict(X_test)\n",
        "report = classification_report(Y_test, Y_pred)\n",
        "print(report)\n",
        "print(\"Decision Tree Accuracy: {:.2f}%\".format(DTAcc*100))"
      ],
      "metadata": {
        "id": "2SCx1cRyMzCU",
        "colab": {
          "base_uri": "https://localhost:8080/",
          "height": 623
        },
        "outputId": "84e11496-40d4-4beb-9b0f-78ce6bc38187"
      },
      "execution_count": null,
      "outputs": [
        {
          "output_type": "display_data",
          "data": {
            "text/plain": [
              "<Figure size 640x480 with 1 Axes>"
            ],
            "image/png": "[encoded data removed]"
          },
          "metadata": {}
        },
        {
          "output_type": "stream",
          "name": "stdout",
          "text": [
            "              precision    recall  f1-score   support\n",
            "\n",
            "           0       0.95      0.95      0.95        22\n",
            "           1       0.80      0.80      0.80         5\n",
            "\n",
            "    accuracy                           0.93        27\n",
            "   macro avg       0.88      0.88      0.88        27\n",
            "weighted avg       0.93      0.93      0.93        27\n",
            "\n",
            "Decision Tree Accuracy: 92.59%\n"
          ]
        }
      ]
    },
    {
      "cell_type": "markdown",
      "source": [
        "**Random Forest**"
      ],
      "metadata": {
        "id": "hv1Xwn5uglhc"
      }
    },
    {
      "cell_type": "code",
      "source": [
        "scoreListRF = []\n",
        "for i in range(2,25):\n",
        "    RFclassifier = RandomForestClassifier(n_estimators = 1000, random_state = 1, max_leaf_nodes=i)\n",
        "    RFclassifier.fit(X_train, Y_train)\n",
        "    scoreListRF.append(RFclassifier.score(X_test, Y_test))\n",
        "\n",
        "plt.plot(range(2,25), scoreListRF)\n",
        "plt.xticks(np.arange(2,25,1))\n",
        "plt.xlabel(\"RF Value\")\n",
        "plt.ylabel(\"Score\")\n",
        "plt.show()\n",
        "Y_pred = RFclassifier.predict(X_test)\n",
        "report = classification_report(Y_test, Y_pred)\n",
        "print(report)\n",
        "RFAcc = max(scoreListRF)\n",
        "print(\"Random Forest Accuracy:  {:.2f}%\".format(RFAcc*100))"
      ],
      "metadata": {
        "id": "bAW-SJhqNXFD",
        "colab": {
          "base_uri": "https://localhost:8080/",
          "height": 623
        },
        "outputId": "b9f047f4-2560-4e16-b56c-22b23d0bc473"
      },
      "execution_count": null,
      "outputs": [
        {
          "output_type": "display_data",
          "data": {
            "text/plain": [
              "<Figure size 640x480 with 1 Axes>"
            ],
            "image/png": "[encoded data removed]"
          },
          "metadata": {}
        },
        {
          "output_type": "stream",
          "name": "stdout",
          "text": [
            "              precision    recall  f1-score   support\n",
            "\n",
            "           0       0.92      1.00      0.96        22\n",
            "           1       1.00      0.60      0.75         5\n",
            "\n",
            "    accuracy                           0.93        27\n",
            "   macro avg       0.96      0.80      0.85        27\n",
            "weighted avg       0.93      0.93      0.92        27\n",
            "\n",
            "Random Forest Accuracy:  92.59%\n"
          ]
        }
      ]
    },
    {
      "cell_type": "markdown",
      "source": [
        "**Accuracy Comparison**"
      ],
      "metadata": {
        "id": "bN3XnIF0go65"
      }
    },
    {
      "cell_type": "code",
      "source": [
        "compare = pd.DataFrame({'Model': ['Logistic Regression',\n",
        "                                  'Gaussian NB', 'Decision Tree',\n",
        "                                  'Random Forest'],\n",
        "                        'Accuracy': [(np.mean(test5))*100, NBAcc2*100, DTAcc*100,\n",
        "                                     RFAcc*100]})\n",
        "compare.sort_values(by='Accuracy', ascending=False)"
      ],
      "metadata": {
        "id": "HM88_0u9N53a",
        "colab": {
          "base_uri": "https://localhost:8080/",
          "height": 175
        },
        "outputId": "cad385a9-07c1-4d2b-de7f-81e168807e52"
      },
      "execution_count": null,
      "outputs": [
        {
          "output_type": "execute_result",
          "data": {
            "text/plain": [
              "                 Model   Accuracy\n",
              "1          Gaussian NB  96.296296\n",
              "2        Decision Tree  92.592593\n",
              "3        Random Forest  92.592593\n",
              "0  Logistic Regression  88.846154"
            ],
            "text/html": [
              "\n",
              "  <div id=\"df-313ef89d-975e-45b9-97e6-26ecf49df43a\">\n",
              "    <div class=\"colab-df-container\">\n",
              "      <div>\n",
              "<style scoped>\n",
              "    .dataframe tbody tr th:only-of-type {\n",
              "        vertical-align: middle;\n",
              "    }\n",
              "\n",
              "    .dataframe tbody tr th {\n",
              "        vertical-align: top;\n",
              "    }\n",
              "\n",
              "    .dataframe thead th {\n",
              "        text-align: right;\n",
              "    }\n",
              "</style>\n",
              "<table border=\"1\" class=\"dataframe\">\n",
              "  <thead>\n",
              "    <tr style=\"text-align: right;\">\n",
              "      <th></th>\n",
              "      <th>Model</th>\n",
              "      <th>Accuracy</th>\n",
              "    </tr>\n",
              "  </thead>\n",
              "  <tbody>\n",
              "    <tr>\n",
              "      <th>1</th>\n",
              "      <td>Gaussian NB</td>\n",
              "      <td>96.296296</td>\n",
              "    </tr>\n",
              "    <tr>\n",
              "      <th>2</th>\n",
              "      <td>Decision Tree</td>\n",
              "      <td>92.592593</td>\n",
              "    </tr>\n",
              "    <tr>\n",
              "      <th>3</th>\n",
              "      <td>Random Forest</td>\n",
              "      <td>92.592593</td>\n",
              "    </tr>\n",
              "    <tr>\n",
              "      <th>0</th>\n",
              "      <td>Logistic Regression</td>\n",
              "      <td>88.846154</td>\n",
              "    </tr>\n",
              "  </tbody>\n",
              "</table>\n",
              "</div>\n",
              "      <button class=\"colab-df-convert\" onclick=\"convertToInteractive('df-313ef89d-975e-45b9-97e6-26ecf49df43a')\"\n",
              "              title=\"Convert this dataframe to an interactive table.\"\n",
              "              style=\"display:none;\">\n",
              "        \n",
              "  <svg xmlns=\"http://www.w3.org/2000/svg\" height=\"24px\"viewBox=\"0 0 24 24\"\n",
              "       width=\"24px\">\n",
              "    <path d=\"M0 0h24v24H0V0z\" fill=\"none\"/>\n",
              "    <path d=\"M18.56 5.44l.94 2.06.94-2.06 2.06-.94-2.06-.94-.94-2.06-.94 2.06-2.06.94zm-11 1L8.5 8.5l.94-2.06 2.06-.94-2.06-.94L8.5 2.5l-.94 2.06-2.06.94zm10 10l.94 2.06.94-2.06 2.06-.94-2.06-.94-.94-2.06-.94 2.06-2.06.94z\"/><path d=\"M17.41 7.96l-1.37-1.37c-.4-.4-.92-.59-1.43-.59-.52 0-1.04.2-1.43.59L10.3 9.45l-7.72 7.72c-.78.78-.78 2.05 0 2.83L4 21.41c.39.39.9.59 1.41.59.51 0 1.02-.2 1.41-.59l7.78-7.78 2.81-2.81c.8-.78.8-2.07 0-2.86zM5.41 20L4 18.59l7.72-7.72 1.47 1.35L5.41 20z\"/>\n",
              "  </svg>\n",
              "      </button>\n",
              "      \n",
              "  <style>\n",
              "    .colab-df-container {\n",
              "      display:flex;\n",
              "      flex-wrap:wrap;\n",
              "      gap: 12px;\n",
              "    }\n",
              "\n",
              "    .colab-df-convert {\n",
              "      background-color: #E8F0FE;\n",
              "      border: none;\n",
              "      border-radius: 50%;\n",
              "      cursor: pointer;\n",
              "      display: none;\n",
              "      fill: #1967D2;\n",
              "      height: 32px;\n",
              "      padding: 0 0 0 0;\n",
              "      width: 32px;\n",
              "    }\n",
              "\n",
              "    .colab-df-convert:hover {\n",
              "      background-color: #E2EBFA;\n",
              "      box-shadow: 0px 1px 2px rgba(60, 64, 67, 0.3), 0px 1px 3px 1px rgba(60, 64, 67, 0.15);\n",
              "      fill: #174EA6;\n",
              "    }\n",
              "\n",
              "    [theme=dark] .colab-df-convert {\n",
              "      background-color: #3B4455;\n",
              "      fill: #D2E3FC;\n",
              "    }\n",
              "\n",
              "    [theme=dark] .colab-df-convert:hover {\n",
              "      background-color: #434B5C;\n",
              "      box-shadow: 0px 1px 3px 1px rgba(0, 0, 0, 0.15);\n",
              "      filter: drop-shadow(0px 1px 2px rgba(0, 0, 0, 0.3));\n",
              "      fill: #FFFFFF;\n",
              "    }\n",
              "  </style>\n",
              "\n",
              "      <script>\n",
              "        const buttonEl =\n",
              "          document.querySelector('#df-313ef89d-975e-45b9-97e6-26ecf49df43a button.colab-df-convert');\n",
              "        buttonEl.style.display =\n",
              "          google.colab.kernel.accessAllowed ? 'block' : 'none';\n",
              "\n",
              "        async function convertToInteractive(key) {\n",
              "          const element = document.querySelector('#df-313ef89d-975e-45b9-97e6-26ecf49df43a');\n",
              "          const dataTable =\n",
              "            await google.colab.kernel.invokeFunction('convertToInteractive',\n",
              "                                                     [key], {});\n",
              "          if (!dataTable) return;\n",
              "\n",
              "          const docLinkHtml = 'Like what you see? Visit the ' +\n",
              "            '<a target=\"_blank\" href=https://colab.research.google.com/notebooks/data_table.ipynb>data table notebook</a>'\n",
              "            + ' to learn more about interactive tables.';\n",
              "          element.innerHTML = '';\n",
              "          dataTable['output_type'] = 'display_data';\n",
              "          await google.colab.output.renderOutput(dataTable, element);\n",
              "          const docLink = document.createElement('div');\n",
              "          docLink.innerHTML = docLinkHtml;\n",
              "          element.appendChild(docLink);\n",
              "        }\n",
              "      </script>\n",
              "    </div>\n",
              "  </div>\n",
              "  "
            ]
          },
          "metadata": {},
          "execution_count": 45
        }
      ]
    },
    {
      "cell_type": "markdown",
      "source": [
        "**Comparing Accuracies after K-fold Cross Validation**"
      ],
      "metadata": {
        "id": "1Usqq64iw-P6"
      }
    },
    {
      "cell_type": "code",
      "source": [
        "kfold = KFold(n_splits=10, random_state=1, shuffle=True)\n",
        "# Compute accuracy scores for each classifier using k-fold cross-validation\n",
        "LRscores = cross_val_score(logreg, X, Y, cv=kfold)\n",
        "RFscores = cross_val_score(RFclassifier, X, Y, cv=kfold)\n",
        "DTscores = cross_val_score(DTclassifier, X, Y, cv=kfold)\n",
        "NBscores = cross_val_score(NBclassifier2, X, Y, cv=kfold)\n"
      ],
      "metadata": {
        "id": "Xi4wR13et8sP"
      },
      "execution_count": null,
      "outputs": []
    },
    {
      "cell_type": "code",
      "source": [
        "compare = pd.DataFrame({'Model': ['Logistic Regression','Random Forest','Decision Tree', 'Gaussian NB'],\n",
        "                        'KFOLD Accuracy': [LRscores.mean(), RFscores.mean(), DTscores.mean(), NBscores.mean()],\n",
        "                        'KFOLD Std': [LRscores.std() * 2, RFscores.std() * 2, DTscores.std() * 2, NBscores.std() * 2]\n",
        "                       })\n",
        "compare['KFOLD Accuracy'] = compare['KFOLD Accuracy'].apply(lambda x: \"{:.2f}%\".format(x * 100))\n",
        "compare['KFOLD Std'] = compare['KFOLD Std'].apply(lambda x: \"{:.2f}%\".format(x * 100))\n",
        "compare"
      ],
      "metadata": {
        "colab": {
          "base_uri": "https://localhost:8080/",
          "height": 174
        },
        "id": "ZJdnMockwGQw",
        "outputId": "58f152dd-c851-4d3f-9f46-8f4794a31043"
      },
      "execution_count": null,
      "outputs": [
        {
          "output_type": "execute_result",
          "data": {
            "text/plain": [
              "                 Model KFOLD Accuracy KFOLD Std\n",
              "0  Logistic Regression         88.85%    15.53%\n",
              "1        Random Forest         86.65%    16.32%\n",
              "2        Decision Tree         84.34%    14.55%\n",
              "3          Gaussian NB         88.24%    14.86%"
            ],
            "text/html": [
              "\n",
              "  <div id=\"df-41c8a77a-91a5-4895-8d16-d370d5d197ea\">\n",
              "    <div class=\"colab-df-container\">\n",
              "      <div>\n",
              "<style scoped>\n",
              "    .dataframe tbody tr th:only-of-type {\n",
              "        vertical-align: middle;\n",
              "    }\n",
              "\n",
              "    .dataframe tbody tr th {\n",
              "        vertical-align: top;\n",
              "    }\n",
              "\n",
              "    .dataframe thead th {\n",
              "        text-align: right;\n",
              "    }\n",
              "</style>\n",
              "<table border=\"1\" class=\"dataframe\">\n",
              "  <thead>\n",
              "    <tr style=\"text-align: right;\">\n",
              "      <th></th>\n",
              "      <th>Model</th>\n",
              "      <th>KFOLD Accuracy</th>\n",
              "      <th>KFOLD Std</th>\n",
              "    </tr>\n",
              "  </thead>\n",
              "  <tbody>\n",
              "    <tr>\n",
              "      <th>0</th>\n",
              "      <td>Logistic Regression</td>\n",
              "      <td>88.85%</td>\n",
              "      <td>15.53%</td>\n",
              "    </tr>\n",
              "    <tr>\n",
              "      <th>1</th>\n",
              "      <td>Random Forest</td>\n",
              "      <td>86.65%</td>\n",
              "      <td>16.32%</td>\n",
              "    </tr>\n",
              "    <tr>\n",
              "      <th>2</th>\n",
              "      <td>Decision Tree</td>\n",
              "      <td>84.34%</td>\n",
              "      <td>14.55%</td>\n",
              "    </tr>\n",
              "    <tr>\n",
              "      <th>3</th>\n",
              "      <td>Gaussian NB</td>\n",
              "      <td>88.24%</td>\n",
              "      <td>14.86%</td>\n",
              "    </tr>\n",
              "  </tbody>\n",
              "</table>\n",
              "</div>\n",
              "      <button class=\"colab-df-convert\" onclick=\"convertToInteractive('df-41c8a77a-91a5-4895-8d16-d370d5d197ea')\"\n",
              "              title=\"Convert this dataframe to an interactive table.\"\n",
              "              style=\"display:none;\">\n",
              "        \n",
              "  <svg xmlns=\"http://www.w3.org/2000/svg\" height=\"24px\"viewBox=\"0 0 24 24\"\n",
              "       width=\"24px\">\n",
              "    <path d=\"M0 0h24v24H0V0z\" fill=\"none\"/>\n",
              "    <path d=\"M18.56 5.44l.94 2.06.94-2.06 2.06-.94-2.06-.94-.94-2.06-.94 2.06-2.06.94zm-11 1L8.5 8.5l.94-2.06 2.06-.94-2.06-.94L8.5 2.5l-.94 2.06-2.06.94zm10 10l.94 2.06.94-2.06 2.06-.94-2.06-.94-.94-2.06-.94 2.06-2.06.94z\"/><path d=\"M17.41 7.96l-1.37-1.37c-.4-.4-.92-.59-1.43-.59-.52 0-1.04.2-1.43.59L10.3 9.45l-7.72 7.72c-.78.78-.78 2.05 0 2.83L4 21.41c.39.39.9.59 1.41.59.51 0 1.02-.2 1.41-.59l7.78-7.78 2.81-2.81c.8-.78.8-2.07 0-2.86zM5.41 20L4 18.59l7.72-7.72 1.47 1.35L5.41 20z\"/>\n",
              "  </svg>\n",
              "      </button>\n",
              "      \n",
              "  <style>\n",
              "    .colab-df-container {\n",
              "      display:flex;\n",
              "      flex-wrap:wrap;\n",
              "      gap: 12px;\n",
              "    }\n",
              "\n",
              "    .colab-df-convert {\n",
              "      background-color: #E8F0FE;\n",
              "      border: none;\n",
              "      border-radius: 50%;\n",
              "      cursor: pointer;\n",
              "      display: none;\n",
              "      fill: #1967D2;\n",
              "      height: 32px;\n",
              "      padding: 0 0 0 0;\n",
              "      width: 32px;\n",
              "    }\n",
              "\n",
              "    .colab-df-convert:hover {\n",
              "      background-color: #E2EBFA;\n",
              "      box-shadow: 0px 1px 2px rgba(60, 64, 67, 0.3), 0px 1px 3px 1px rgba(60, 64, 67, 0.15);\n",
              "      fill: #174EA6;\n",
              "    }\n",
              "\n",
              "    [theme=dark] .colab-df-convert {\n",
              "      background-color: #3B4455;\n",
              "      fill: #D2E3FC;\n",
              "    }\n",
              "\n",
              "    [theme=dark] .colab-df-convert:hover {\n",
              "      background-color: #434B5C;\n",
              "      box-shadow: 0px 1px 3px 1px rgba(0, 0, 0, 0.15);\n",
              "      filter: drop-shadow(0px 1px 2px rgba(0, 0, 0, 0.3));\n",
              "      fill: #FFFFFF;\n",
              "    }\n",
              "  </style>\n",
              "\n",
              "      <script>\n",
              "        const buttonEl =\n",
              "          document.querySelector('#df-41c8a77a-91a5-4895-8d16-d370d5d197ea button.colab-df-convert');\n",
              "        buttonEl.style.display =\n",
              "          google.colab.kernel.accessAllowed ? 'block' : 'none';\n",
              "\n",
              "        async function convertToInteractive(key) {\n",
              "          const element = document.querySelector('#df-41c8a77a-91a5-4895-8d16-d370d5d197ea');\n",
              "          const dataTable =\n",
              "            await google.colab.kernel.invokeFunction('convertToInteractive',\n",
              "                                                     [key], {});\n",
              "          if (!dataTable) return;\n",
              "\n",
              "          const docLinkHtml = 'Like what you see? Visit the ' +\n",
              "            '<a target=\"_blank\" href=https://colab.research.google.com/notebooks/data_table.ipynb>data table notebook</a>'\n",
              "            + ' to learn more about interactive tables.';\n",
              "          element.innerHTML = '';\n",
              "          dataTable['output_type'] = 'display_data';\n",
              "          await google.colab.output.renderOutput(dataTable, element);\n",
              "          const docLink = document.createElement('div');\n",
              "          docLink.innerHTML = docLinkHtml;\n",
              "          element.appendChild(docLink);\n",
              "        }\n",
              "      </script>\n",
              "    </div>\n",
              "  </div>\n",
              "  "
            ]
          },
          "metadata": {},
          "execution_count": 124
        }
      ]
    },
    {
      "cell_type": "markdown",
      "source": [
        "**Extra Regression model for Willingness to pay**"
      ],
      "metadata": {
        "id": "pRbNtOmVxFpM"
      }
    },
    {
      "cell_type": "code",
      "source": [
        "X=df2.loc[:, df2.columns != 'Q8']\n",
        "Y=df2['Q8']\n",
        "X_train,X_test,Y_train,Y_test = train_test_split(X,Y,test_size=0.2,random_state=2)"
      ],
      "metadata": {
        "id": "Jfr_0IlAV7iM"
      },
      "execution_count": null,
      "outputs": []
    },
    {
      "cell_type": "code",
      "source": [
        "logreg = LogisticRegression(multi_class='multinomial',penalty='l2', solver='lbfgs', max_iter=1000)\n",
        "kfold5 = KFold(n_splits=10,random_state=1,shuffle=True)\n",
        "test5 = cross_val_score(logreg,X,Y,cv=kfold5,scoring='accuracy',n_jobs=-1)\n",
        "print(np.mean(-test5))"
      ],
      "metadata": {
        "colab": {
          "base_uri": "https://localhost:8080/"
        },
        "id": "n17qhgS9Vukv",
        "outputId": "cb4f4f72-7b82-4e0a-f991-e67063db1065"
      },
      "execution_count": null,
      "outputs": [
        {
          "output_type": "stream",
          "name": "stdout",
          "text": [
            "-0.3423076923076923\n"
          ]
        }
      ]
    },
    {
      "cell_type": "code",
      "source": [
        "X=df2[['Age','Q9','Q5','Conv']]\n",
        "Y=df2['Q8']\n",
        "X_train,X_test,Y_train,Y_test = train_test_split(X,Y,test_size=0.2,random_state=2)\n",
        "#mdl = sm.MNLogit(Y, X)\n",
        "#mdl_fit = mdl.fit()\n",
        "#print (mdl_fit.summary())"
      ],
      "metadata": {
        "id": "jqccBnv3XMzN"
      },
      "execution_count": null,
      "outputs": []
    },
    {
      "cell_type": "code",
      "source": [
        "NBclassifier2 = GaussianNB()\n",
        "NBclassifier2.fit(X_train, Y_train)\n",
        "\n",
        "y_pred = NBclassifier2.predict(X_test)\n",
        "\n",
        "print(classification_report(Y_test, y_pred))\n",
        "print(confusion_matrix(Y_test, y_pred))\n",
        "\n",
        "from sklearn.metrics import accuracy_score\n",
        "NBAcc2 = accuracy_score(y_pred,Y_test)\n",
        "print('Gaussian Naive Bayes accuracy: {:.2f}%'.format(NBAcc2*100))"
      ],
      "metadata": {
        "colab": {
          "base_uri": "https://localhost:8080/"
        },
        "id": "qBwKkldrWWj3",
        "outputId": "796349bb-725a-4cf3-b30b-23bd3fc32a87"
      },
      "execution_count": null,
      "outputs": [
        {
          "output_type": "stream",
          "name": "stdout",
          "text": [
            "              precision    recall  f1-score   support\n",
            "\n",
            "           0       0.62      0.42      0.50        12\n",
            "           1       0.38      0.62      0.48         8\n",
            "           2       0.00      0.00      0.00         3\n",
            "           3       0.00      0.00      0.00         3\n",
            "           4       0.17      1.00      0.29         1\n",
            "\n",
            "    accuracy                           0.41        27\n",
            "   macro avg       0.24      0.41      0.25        27\n",
            "weighted avg       0.40      0.41      0.37        27\n",
            "\n",
            "[[5 5 0 0 2]\n",
            " [2 5 0 0 1]\n",
            " [1 1 0 0 1]\n",
            " [0 2 0 0 1]\n",
            " [0 0 0 0 1]]\n",
            "Gaussian Naive Bayes accuracy: 40.74%\n"
          ]
        },
        {
          "output_type": "stream",
          "name": "stderr",
          "text": [
            "/usr/local/lib/python3.9/dist-packages/sklearn/metrics/_classification.py:1344: UndefinedMetricWarning: Precision and F-score are ill-defined and being set to 0.0 in labels with no predicted samples. Use `zero_division` parameter to control this behavior.\n",
            "  _warn_prf(average, modifier, msg_start, len(result))\n",
            "/usr/local/lib/python3.9/dist-packages/sklearn/metrics/_classification.py:1344: UndefinedMetricWarning: Precision and F-score are ill-defined and being set to 0.0 in labels with no predicted samples. Use `zero_division` parameter to control this behavior.\n",
            "  _warn_prf(average, modifier, msg_start, len(result))\n",
            "/usr/local/lib/python3.9/dist-packages/sklearn/metrics/_classification.py:1344: UndefinedMetricWarning: Precision and F-score are ill-defined and being set to 0.0 in labels with no predicted samples. Use `zero_division` parameter to control this behavior.\n",
            "  _warn_prf(average, modifier, msg_start, len(result))\n"
          ]
        }
      ]
    },
    {
      "cell_type": "code",
      "source": [
        "scoreListDT = []\n",
        "for i in range(2,21):\n",
        "    DTclassifier = DecisionTreeClassifier(max_leaf_nodes=i)\n",
        "    DTclassifier.fit(X_train, Y_train)\n",
        "    scoreListDT.append(DTclassifier.score(X_test, Y_test))\n",
        "\n",
        "plt.plot(range(2,21), scoreListDT)\n",
        "plt.xticks(np.arange(2,21,1))\n",
        "plt.xlabel(\"Leaf\")\n",
        "plt.ylabel(\"Score\")\n",
        "plt.show()\n",
        "DTAcc = max(scoreListDT)\n",
        "Y_pred = DTclassifier.predict(X_test)\n",
        "report = classification_report(Y_test, Y_pred)\n",
        "print(report)\n",
        "print(\"Decision Tree Accuracy: {:.2f}%\".format(DTAcc*100))"
      ],
      "metadata": {
        "colab": {
          "base_uri": "https://localhost:8080/",
          "height": 675
        },
        "id": "rwTITMN1aHet",
        "outputId": "4a819981-4faf-432d-df6c-6334421d5c4c"
      },
      "execution_count": null,
      "outputs": [
        {
          "output_type": "display_data",
          "data": {
            "text/plain": [
              "<Figure size 640x480 with 1 Axes>"
            ],
            "image/png": "[encoded data removed]"
          },
          "metadata": {}
        },
        {
          "output_type": "stream",
          "name": "stdout",
          "text": [
            "              precision    recall  f1-score   support\n",
            "\n",
            "           0       0.62      0.67      0.64        12\n",
            "           1       0.00      0.00      0.00         8\n",
            "           2       0.00      0.00      0.00         3\n",
            "           3       0.67      0.67      0.67         3\n",
            "           4       0.00      0.00      0.00         1\n",
            "\n",
            "    accuracy                           0.37        27\n",
            "   macro avg       0.26      0.27      0.26        27\n",
            "weighted avg       0.35      0.37      0.36        27\n",
            "\n",
            "Decision Tree Accuracy: 51.85%\n"
          ]
        }
      ]
    },
    {
      "cell_type": "code",
      "source": [
        "scoreListRF = []\n",
        "for i in range(2,25):\n",
        "    RFclassifier = RandomForestClassifier(n_estimators = 1000, random_state = 1, max_leaf_nodes=i)\n",
        "    RFclassifier.fit(X_train, Y_train)\n",
        "    scoreListRF.append(RFclassifier.score(X_test, Y_test))\n",
        "\n",
        "plt.plot(range(2,25), scoreListRF)\n",
        "plt.xticks(np.arange(2,25,1))\n",
        "plt.xlabel(\"RF Value\")\n",
        "plt.ylabel(\"Score\")\n",
        "plt.show()\n",
        "Y_pred = RFclassifier.predict(X_test)\n",
        "report = classification_report(Y_test, Y_pred)\n",
        "print(report)\n",
        "RFAcc = max(scoreListRF)\n",
        "print(\"Random Forest Accuracy:  {:.2f}%\".format(RFAcc*100))"
      ],
      "metadata": {
        "colab": {
          "base_uri": "https://localhost:8080/",
          "height": 675
        },
        "id": "2mNrQxykaMEA",
        "outputId": "0849bb8e-538a-43d9-b007-80f0693fb700"
      },
      "execution_count": null,
      "outputs": [
        {
          "output_type": "display_data",
          "data": {
            "text/plain": [
              "<Figure size 640x480 with 1 Axes>"
            ],
            "image/png": "[encoded data removed]"
          },
          "metadata": {}
        },
        {
          "output_type": "stream",
          "name": "stdout",
          "text": [
            "              precision    recall  f1-score   support\n",
            "\n",
            "           0       0.67      0.67      0.67        12\n",
            "           1       0.50      0.12      0.20         8\n",
            "           2       0.20      0.33      0.25         3\n",
            "           3       0.33      0.33      0.33         3\n",
            "           4       0.00      0.00      0.00         1\n",
            "\n",
            "    accuracy                           0.41        27\n",
            "   macro avg       0.34      0.29      0.29        27\n",
            "weighted avg       0.50      0.41      0.42        27\n",
            "\n",
            "Random Forest Accuracy:  48.15%\n"
          ]
        }
      ]
    }
  ]
}